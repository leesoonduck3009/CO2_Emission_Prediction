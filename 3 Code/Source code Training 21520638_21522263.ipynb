{
  "nbformat": 4,
  "nbformat_minor": 0,
  "metadata": {
    "colab": {
      "provenance": []
    },
    "kernelspec": {
      "name": "python3",
      "display_name": "Python 3"
    },
    "language_info": {
      "name": "python"
    }
  },
  "cells": [
    {
      "cell_type": "code",
      "execution_count": null,
      "metadata": {
        "id": "89XSFUfp26AD"
      },
      "outputs": [],
      "source": [
        "import pandas as pd\n",
        "import matplotlib.pyplot as plt\n",
        "import numpy as np\n",
        "import seaborn as sns\n",
        "from sklearn.datasets import make_regression\n",
        "from sklearn.model_selection import train_test_split\n",
        "from sklearn.feature_selection import SelectKBest\n",
        "from sklearn.feature_selection import f_regression\n",
        "from sklearn.preprocessing import StandardScaler"
      ]
    },
    {
      "cell_type": "markdown",
      "source": [
        "#Import train file\n"
      ],
      "metadata": {
        "id": "dEtpxHgQ3STi"
      }
    },
    {
      "cell_type": "code",
      "source": [
        "df = pd.read_csv('train.csv')\n",
        "df"
      ],
      "metadata": {
        "id": "Dae7v5C_3Mk3",
        "colab": {
          "base_uri": "https://localhost:8080/",
          "height": 443
        },
        "outputId": "8a6d7a0c-7580-4133-dba1-c27754f91501"
      },
      "execution_count": null,
      "outputs": [
        {
          "output_type": "execute_result",
          "data": {
            "text/plain": [
              "           ID_LAT_LON_YEAR_WEEK  latitude  longitude  year  week_no  \\\n",
              "0      ID_-0.510_29.290_2019_00    -0.510     29.290  2019        0   \n",
              "1      ID_-0.510_29.290_2019_01    -0.510     29.290  2019        1   \n",
              "2      ID_-0.510_29.290_2019_02    -0.510     29.290  2019        2   \n",
              "3      ID_-0.510_29.290_2019_03    -0.510     29.290  2019        3   \n",
              "4      ID_-0.510_29.290_2019_04    -0.510     29.290  2019        4   \n",
              "...                         ...       ...        ...   ...      ...   \n",
              "79018  ID_-3.299_30.301_2021_48    -3.299     30.301  2021       48   \n",
              "79019  ID_-3.299_30.301_2021_49    -3.299     30.301  2021       49   \n",
              "79020  ID_-3.299_30.301_2021_50    -3.299     30.301  2021       50   \n",
              "79021  ID_-3.299_30.301_2021_51    -3.299     30.301  2021       51   \n",
              "79022  ID_-3.299_30.301_2021_52    -3.299     30.301  2021       52   \n",
              "\n",
              "       SulphurDioxide_SO2_column_number_density  \\\n",
              "0                                     -0.000108   \n",
              "1                                      0.000021   \n",
              "2                                      0.000514   \n",
              "3                                           NaN   \n",
              "4                                     -0.000079   \n",
              "...                                         ...   \n",
              "79018                                  0.000284   \n",
              "79019                                  0.000083   \n",
              "79020                                       NaN   \n",
              "79021                                 -0.000034   \n",
              "79022                                 -0.000091   \n",
              "\n",
              "       SulphurDioxide_SO2_column_number_density_amf  \\\n",
              "0                                          0.603019   \n",
              "1                                          0.728214   \n",
              "2                                          0.748199   \n",
              "3                                               NaN   \n",
              "4                                          0.676296   \n",
              "...                                             ...   \n",
              "79018                                      1.195643   \n",
              "79019                                      1.130868   \n",
              "79020                                           NaN   \n",
              "79021                                      0.879397   \n",
              "79022                                      0.871951   \n",
              "\n",
              "       SulphurDioxide_SO2_slant_column_number_density  \\\n",
              "0                                           -0.000065   \n",
              "1                                            0.000014   \n",
              "2                                            0.000385   \n",
              "3                                                 NaN   \n",
              "4                                           -0.000048   \n",
              "...                                               ...   \n",
              "79018                                        0.000340   \n",
              "79019                                        0.000063   \n",
              "79020                                             NaN   \n",
              "79021                                       -0.000028   \n",
              "79022                                       -0.000079   \n",
              "\n",
              "       SulphurDioxide_cloud_fraction  SulphurDioxide_sensor_azimuth_angle  \\\n",
              "0                           0.255668                           -98.593887   \n",
              "1                           0.130988                            16.592861   \n",
              "2                           0.110018                            72.795837   \n",
              "3                                NaN                                  NaN   \n",
              "4                           0.121164                             4.121269   \n",
              "...                              ...                                  ...   \n",
              "79018                       0.191313                            72.820518   \n",
              "79019                       0.177222                           -12.856753   \n",
              "79020                            NaN                                  NaN   \n",
              "79021                       0.184209                          -100.344827   \n",
              "79022                       0.000000                            76.825638   \n",
              "\n",
              "       ...  Cloud_cloud_top_height  Cloud_cloud_base_pressure  \\\n",
              "0      ...             3664.436218               61085.809570   \n",
              "1      ...             3651.190311               66969.478735   \n",
              "2      ...             4216.986492               60068.894448   \n",
              "3      ...             5228.507736               51064.547339   \n",
              "4      ...             3980.598120               63751.125781   \n",
              "...    ...                     ...                        ...   \n",
              "79018  ...             5459.185355               60657.101913   \n",
              "79019  ...             5606.449457               60168.191528   \n",
              "79020  ...             6222.646776               56596.027209   \n",
              "79021  ...             7896.456885               46533.348194   \n",
              "79022  ...             7553.295016               47771.681887   \n",
              "\n",
              "       Cloud_cloud_base_height  Cloud_cloud_optical_depth  \\\n",
              "0                  2615.120483                  15.568533   \n",
              "1                  3174.572424                   8.690601   \n",
              "2                  3516.282669                  21.103410   \n",
              "3                  4180.973322                  15.386899   \n",
              "4                  3355.710107                   8.114694   \n",
              "...                        ...                        ...   \n",
              "79018              4590.879504                  20.245954   \n",
              "79019              4659.130378                   6.104610   \n",
              "79020              5222.646823                  14.817885   \n",
              "79021              6946.858022                  32.594768   \n",
              "79022              6553.295018                  19.464032   \n",
              "\n",
              "       Cloud_surface_albedo  Cloud_sensor_azimuth_angle  \\\n",
              "0                  0.272292                  -12.628986   \n",
              "1                  0.256830                   30.359375   \n",
              "2                  0.251101                   15.377883   \n",
              "3                  0.262043                  -11.293399   \n",
              "4                  0.235847                   38.532263   \n",
              "...                     ...                         ...   \n",
              "79018              0.304797                  -35.140368   \n",
              "79019              0.314015                    4.667058   \n",
              "79020              0.288058                   -0.340922   \n",
              "79021              0.274047                    8.427699   \n",
              "79022              0.226276                  -12.808528   \n",
              "\n",
              "       Cloud_sensor_zenith_angle  Cloud_solar_azimuth_angle  \\\n",
              "0                      35.632416                -138.786423   \n",
              "1                      39.557633                -145.183930   \n",
              "2                      30.401823                -142.519545   \n",
              "3                      24.380357                -132.665828   \n",
              "4                      37.392979                -141.509805   \n",
              "...                          ...                        ...   \n",
              "79018                  40.113533                -129.935508   \n",
              "79019                  47.528435                -134.252871   \n",
              "79020                  35.328098                -134.731723   \n",
              "79021                  48.295652                -139.447849   \n",
              "79022                  47.923441                -136.299984   \n",
              "\n",
              "       Cloud_solar_zenith_angle   emission  \n",
              "0                     30.752140   3.750994  \n",
              "1                     27.251779   4.025176  \n",
              "2                     26.193296   4.231381  \n",
              "3                     28.829155   4.305286  \n",
              "4                     22.204612   4.347317  \n",
              "...                         ...        ...  \n",
              "79018                 32.095214  29.404171  \n",
              "79019                 30.771469  29.186497  \n",
              "79020                 30.716166  29.131205  \n",
              "79021                 29.112868  28.125792  \n",
              "79022                 30.246387  27.239302  \n",
              "\n",
              "[79023 rows x 76 columns]"
            ],
            "text/html": [
              "\n",
              "  <div id=\"df-2c7874fe-3c45-455f-8166-e6265442513a\" class=\"colab-df-container\">\n",
              "    <div>\n",
              "<style scoped>\n",
              "    .dataframe tbody tr th:only-of-type {\n",
              "        vertical-align: middle;\n",
              "    }\n",
              "\n",
              "    .dataframe tbody tr th {\n",
              "        vertical-align: top;\n",
              "    }\n",
              "\n",
              "    .dataframe thead th {\n",
              "        text-align: right;\n",
              "    }\n",
              "</style>\n",
              "<table border=\"1\" class=\"dataframe\">\n",
              "  <thead>\n",
              "    <tr style=\"text-align: right;\">\n",
              "      <th></th>\n",
              "      <th>ID_LAT_LON_YEAR_WEEK</th>\n",
              "      <th>latitude</th>\n",
              "      <th>longitude</th>\n",
              "      <th>year</th>\n",
              "      <th>week_no</th>\n",
              "      <th>SulphurDioxide_SO2_column_number_density</th>\n",
              "      <th>SulphurDioxide_SO2_column_number_density_amf</th>\n",
              "      <th>SulphurDioxide_SO2_slant_column_number_density</th>\n",
              "      <th>SulphurDioxide_cloud_fraction</th>\n",
              "      <th>SulphurDioxide_sensor_azimuth_angle</th>\n",
              "      <th>...</th>\n",
              "      <th>Cloud_cloud_top_height</th>\n",
              "      <th>Cloud_cloud_base_pressure</th>\n",
              "      <th>Cloud_cloud_base_height</th>\n",
              "      <th>Cloud_cloud_optical_depth</th>\n",
              "      <th>Cloud_surface_albedo</th>\n",
              "      <th>Cloud_sensor_azimuth_angle</th>\n",
              "      <th>Cloud_sensor_zenith_angle</th>\n",
              "      <th>Cloud_solar_azimuth_angle</th>\n",
              "      <th>Cloud_solar_zenith_angle</th>\n",
              "      <th>emission</th>\n",
              "    </tr>\n",
              "  </thead>\n",
              "  <tbody>\n",
              "    <tr>\n",
              "      <th>0</th>\n",
              "      <td>ID_-0.510_29.290_2019_00</td>\n",
              "      <td>-0.510</td>\n",
              "      <td>29.290</td>\n",
              "      <td>2019</td>\n",
              "      <td>0</td>\n",
              "      <td>-0.000108</td>\n",
              "      <td>0.603019</td>\n",
              "      <td>-0.000065</td>\n",
              "      <td>0.255668</td>\n",
              "      <td>-98.593887</td>\n",
              "      <td>...</td>\n",
              "      <td>3664.436218</td>\n",
              "      <td>61085.809570</td>\n",
              "      <td>2615.120483</td>\n",
              "      <td>15.568533</td>\n",
              "      <td>0.272292</td>\n",
              "      <td>-12.628986</td>\n",
              "      <td>35.632416</td>\n",
              "      <td>-138.786423</td>\n",
              "      <td>30.752140</td>\n",
              "      <td>3.750994</td>\n",
              "    </tr>\n",
              "    <tr>\n",
              "      <th>1</th>\n",
              "      <td>ID_-0.510_29.290_2019_01</td>\n",
              "      <td>-0.510</td>\n",
              "      <td>29.290</td>\n",
              "      <td>2019</td>\n",
              "      <td>1</td>\n",
              "      <td>0.000021</td>\n",
              "      <td>0.728214</td>\n",
              "      <td>0.000014</td>\n",
              "      <td>0.130988</td>\n",
              "      <td>16.592861</td>\n",
              "      <td>...</td>\n",
              "      <td>3651.190311</td>\n",
              "      <td>66969.478735</td>\n",
              "      <td>3174.572424</td>\n",
              "      <td>8.690601</td>\n",
              "      <td>0.256830</td>\n",
              "      <td>30.359375</td>\n",
              "      <td>39.557633</td>\n",
              "      <td>-145.183930</td>\n",
              "      <td>27.251779</td>\n",
              "      <td>4.025176</td>\n",
              "    </tr>\n",
              "    <tr>\n",
              "      <th>2</th>\n",
              "      <td>ID_-0.510_29.290_2019_02</td>\n",
              "      <td>-0.510</td>\n",
              "      <td>29.290</td>\n",
              "      <td>2019</td>\n",
              "      <td>2</td>\n",
              "      <td>0.000514</td>\n",
              "      <td>0.748199</td>\n",
              "      <td>0.000385</td>\n",
              "      <td>0.110018</td>\n",
              "      <td>72.795837</td>\n",
              "      <td>...</td>\n",
              "      <td>4216.986492</td>\n",
              "      <td>60068.894448</td>\n",
              "      <td>3516.282669</td>\n",
              "      <td>21.103410</td>\n",
              "      <td>0.251101</td>\n",
              "      <td>15.377883</td>\n",
              "      <td>30.401823</td>\n",
              "      <td>-142.519545</td>\n",
              "      <td>26.193296</td>\n",
              "      <td>4.231381</td>\n",
              "    </tr>\n",
              "    <tr>\n",
              "      <th>3</th>\n",
              "      <td>ID_-0.510_29.290_2019_03</td>\n",
              "      <td>-0.510</td>\n",
              "      <td>29.290</td>\n",
              "      <td>2019</td>\n",
              "      <td>3</td>\n",
              "      <td>NaN</td>\n",
              "      <td>NaN</td>\n",
              "      <td>NaN</td>\n",
              "      <td>NaN</td>\n",
              "      <td>NaN</td>\n",
              "      <td>...</td>\n",
              "      <td>5228.507736</td>\n",
              "      <td>51064.547339</td>\n",
              "      <td>4180.973322</td>\n",
              "      <td>15.386899</td>\n",
              "      <td>0.262043</td>\n",
              "      <td>-11.293399</td>\n",
              "      <td>24.380357</td>\n",
              "      <td>-132.665828</td>\n",
              "      <td>28.829155</td>\n",
              "      <td>4.305286</td>\n",
              "    </tr>\n",
              "    <tr>\n",
              "      <th>4</th>\n",
              "      <td>ID_-0.510_29.290_2019_04</td>\n",
              "      <td>-0.510</td>\n",
              "      <td>29.290</td>\n",
              "      <td>2019</td>\n",
              "      <td>4</td>\n",
              "      <td>-0.000079</td>\n",
              "      <td>0.676296</td>\n",
              "      <td>-0.000048</td>\n",
              "      <td>0.121164</td>\n",
              "      <td>4.121269</td>\n",
              "      <td>...</td>\n",
              "      <td>3980.598120</td>\n",
              "      <td>63751.125781</td>\n",
              "      <td>3355.710107</td>\n",
              "      <td>8.114694</td>\n",
              "      <td>0.235847</td>\n",
              "      <td>38.532263</td>\n",
              "      <td>37.392979</td>\n",
              "      <td>-141.509805</td>\n",
              "      <td>22.204612</td>\n",
              "      <td>4.347317</td>\n",
              "    </tr>\n",
              "    <tr>\n",
              "      <th>...</th>\n",
              "      <td>...</td>\n",
              "      <td>...</td>\n",
              "      <td>...</td>\n",
              "      <td>...</td>\n",
              "      <td>...</td>\n",
              "      <td>...</td>\n",
              "      <td>...</td>\n",
              "      <td>...</td>\n",
              "      <td>...</td>\n",
              "      <td>...</td>\n",
              "      <td>...</td>\n",
              "      <td>...</td>\n",
              "      <td>...</td>\n",
              "      <td>...</td>\n",
              "      <td>...</td>\n",
              "      <td>...</td>\n",
              "      <td>...</td>\n",
              "      <td>...</td>\n",
              "      <td>...</td>\n",
              "      <td>...</td>\n",
              "      <td>...</td>\n",
              "    </tr>\n",
              "    <tr>\n",
              "      <th>79018</th>\n",
              "      <td>ID_-3.299_30.301_2021_48</td>\n",
              "      <td>-3.299</td>\n",
              "      <td>30.301</td>\n",
              "      <td>2021</td>\n",
              "      <td>48</td>\n",
              "      <td>0.000284</td>\n",
              "      <td>1.195643</td>\n",
              "      <td>0.000340</td>\n",
              "      <td>0.191313</td>\n",
              "      <td>72.820518</td>\n",
              "      <td>...</td>\n",
              "      <td>5459.185355</td>\n",
              "      <td>60657.101913</td>\n",
              "      <td>4590.879504</td>\n",
              "      <td>20.245954</td>\n",
              "      <td>0.304797</td>\n",
              "      <td>-35.140368</td>\n",
              "      <td>40.113533</td>\n",
              "      <td>-129.935508</td>\n",
              "      <td>32.095214</td>\n",
              "      <td>29.404171</td>\n",
              "    </tr>\n",
              "    <tr>\n",
              "      <th>79019</th>\n",
              "      <td>ID_-3.299_30.301_2021_49</td>\n",
              "      <td>-3.299</td>\n",
              "      <td>30.301</td>\n",
              "      <td>2021</td>\n",
              "      <td>49</td>\n",
              "      <td>0.000083</td>\n",
              "      <td>1.130868</td>\n",
              "      <td>0.000063</td>\n",
              "      <td>0.177222</td>\n",
              "      <td>-12.856753</td>\n",
              "      <td>...</td>\n",
              "      <td>5606.449457</td>\n",
              "      <td>60168.191528</td>\n",
              "      <td>4659.130378</td>\n",
              "      <td>6.104610</td>\n",
              "      <td>0.314015</td>\n",
              "      <td>4.667058</td>\n",
              "      <td>47.528435</td>\n",
              "      <td>-134.252871</td>\n",
              "      <td>30.771469</td>\n",
              "      <td>29.186497</td>\n",
              "    </tr>\n",
              "    <tr>\n",
              "      <th>79020</th>\n",
              "      <td>ID_-3.299_30.301_2021_50</td>\n",
              "      <td>-3.299</td>\n",
              "      <td>30.301</td>\n",
              "      <td>2021</td>\n",
              "      <td>50</td>\n",
              "      <td>NaN</td>\n",
              "      <td>NaN</td>\n",
              "      <td>NaN</td>\n",
              "      <td>NaN</td>\n",
              "      <td>NaN</td>\n",
              "      <td>...</td>\n",
              "      <td>6222.646776</td>\n",
              "      <td>56596.027209</td>\n",
              "      <td>5222.646823</td>\n",
              "      <td>14.817885</td>\n",
              "      <td>0.288058</td>\n",
              "      <td>-0.340922</td>\n",
              "      <td>35.328098</td>\n",
              "      <td>-134.731723</td>\n",
              "      <td>30.716166</td>\n",
              "      <td>29.131205</td>\n",
              "    </tr>\n",
              "    <tr>\n",
              "      <th>79021</th>\n",
              "      <td>ID_-3.299_30.301_2021_51</td>\n",
              "      <td>-3.299</td>\n",
              "      <td>30.301</td>\n",
              "      <td>2021</td>\n",
              "      <td>51</td>\n",
              "      <td>-0.000034</td>\n",
              "      <td>0.879397</td>\n",
              "      <td>-0.000028</td>\n",
              "      <td>0.184209</td>\n",
              "      <td>-100.344827</td>\n",
              "      <td>...</td>\n",
              "      <td>7896.456885</td>\n",
              "      <td>46533.348194</td>\n",
              "      <td>6946.858022</td>\n",
              "      <td>32.594768</td>\n",
              "      <td>0.274047</td>\n",
              "      <td>8.427699</td>\n",
              "      <td>48.295652</td>\n",
              "      <td>-139.447849</td>\n",
              "      <td>29.112868</td>\n",
              "      <td>28.125792</td>\n",
              "    </tr>\n",
              "    <tr>\n",
              "      <th>79022</th>\n",
              "      <td>ID_-3.299_30.301_2021_52</td>\n",
              "      <td>-3.299</td>\n",
              "      <td>30.301</td>\n",
              "      <td>2021</td>\n",
              "      <td>52</td>\n",
              "      <td>-0.000091</td>\n",
              "      <td>0.871951</td>\n",
              "      <td>-0.000079</td>\n",
              "      <td>0.000000</td>\n",
              "      <td>76.825638</td>\n",
              "      <td>...</td>\n",
              "      <td>7553.295016</td>\n",
              "      <td>47771.681887</td>\n",
              "      <td>6553.295018</td>\n",
              "      <td>19.464032</td>\n",
              "      <td>0.226276</td>\n",
              "      <td>-12.808528</td>\n",
              "      <td>47.923441</td>\n",
              "      <td>-136.299984</td>\n",
              "      <td>30.246387</td>\n",
              "      <td>27.239302</td>\n",
              "    </tr>\n",
              "  </tbody>\n",
              "</table>\n",
              "<p>79023 rows × 76 columns</p>\n",
              "</div>\n",
              "    <div class=\"colab-df-buttons\">\n",
              "\n",
              "  <div class=\"colab-df-container\">\n",
              "    <button class=\"colab-df-convert\" onclick=\"convertToInteractive('df-2c7874fe-3c45-455f-8166-e6265442513a')\"\n",
              "            title=\"Convert this dataframe to an interactive table.\"\n",
              "            style=\"display:none;\">\n",
              "\n",
              "  <svg xmlns=\"http://www.w3.org/2000/svg\" height=\"24px\" viewBox=\"0 -960 960 960\">\n",
              "    <path d=\"M120-120v-720h720v720H120Zm60-500h600v-160H180v160Zm220 220h160v-160H400v160Zm0 220h160v-160H400v160ZM180-400h160v-160H180v160Zm440 0h160v-160H620v160ZM180-180h160v-160H180v160Zm440 0h160v-160H620v160Z\"/>\n",
              "  </svg>\n",
              "    </button>\n",
              "\n",
              "  <style>\n",
              "    .colab-df-container {\n",
              "      display:flex;\n",
              "      gap: 12px;\n",
              "    }\n",
              "\n",
              "    .colab-df-convert {\n",
              "      background-color: #E8F0FE;\n",
              "      border: none;\n",
              "      border-radius: 50%;\n",
              "      cursor: pointer;\n",
              "      display: none;\n",
              "      fill: #1967D2;\n",
              "      height: 32px;\n",
              "      padding: 0 0 0 0;\n",
              "      width: 32px;\n",
              "    }\n",
              "\n",
              "    .colab-df-convert:hover {\n",
              "      background-color: #E2EBFA;\n",
              "      box-shadow: 0px 1px 2px rgba(60, 64, 67, 0.3), 0px 1px 3px 1px rgba(60, 64, 67, 0.15);\n",
              "      fill: #174EA6;\n",
              "    }\n",
              "\n",
              "    .colab-df-buttons div {\n",
              "      margin-bottom: 4px;\n",
              "    }\n",
              "\n",
              "    [theme=dark] .colab-df-convert {\n",
              "      background-color: #3B4455;\n",
              "      fill: #D2E3FC;\n",
              "    }\n",
              "\n",
              "    [theme=dark] .colab-df-convert:hover {\n",
              "      background-color: #434B5C;\n",
              "      box-shadow: 0px 1px 3px 1px rgba(0, 0, 0, 0.15);\n",
              "      filter: drop-shadow(0px 1px 2px rgba(0, 0, 0, 0.3));\n",
              "      fill: #FFFFFF;\n",
              "    }\n",
              "  </style>\n",
              "\n",
              "    <script>\n",
              "      const buttonEl =\n",
              "        document.querySelector('#df-2c7874fe-3c45-455f-8166-e6265442513a button.colab-df-convert');\n",
              "      buttonEl.style.display =\n",
              "        google.colab.kernel.accessAllowed ? 'block' : 'none';\n",
              "\n",
              "      async function convertToInteractive(key) {\n",
              "        const element = document.querySelector('#df-2c7874fe-3c45-455f-8166-e6265442513a');\n",
              "        const dataTable =\n",
              "          await google.colab.kernel.invokeFunction('convertToInteractive',\n",
              "                                                    [key], {});\n",
              "        if (!dataTable) return;\n",
              "\n",
              "        const docLinkHtml = 'Like what you see? Visit the ' +\n",
              "          '<a target=\"_blank\" href=https://colab.research.google.com/notebooks/data_table.ipynb>data table notebook</a>'\n",
              "          + ' to learn more about interactive tables.';\n",
              "        element.innerHTML = '';\n",
              "        dataTable['output_type'] = 'display_data';\n",
              "        await google.colab.output.renderOutput(dataTable, element);\n",
              "        const docLink = document.createElement('div');\n",
              "        docLink.innerHTML = docLinkHtml;\n",
              "        element.appendChild(docLink);\n",
              "      }\n",
              "    </script>\n",
              "  </div>\n",
              "\n",
              "\n",
              "<div id=\"df-7394a17b-3f89-4a83-a117-03dc82577a1b\">\n",
              "  <button class=\"colab-df-quickchart\" onclick=\"quickchart('df-7394a17b-3f89-4a83-a117-03dc82577a1b')\"\n",
              "            title=\"Suggest charts\"\n",
              "            style=\"display:none;\">\n",
              "\n",
              "<svg xmlns=\"http://www.w3.org/2000/svg\" height=\"24px\"viewBox=\"0 0 24 24\"\n",
              "     width=\"24px\">\n",
              "    <g>\n",
              "        <path d=\"M19 3H5c-1.1 0-2 .9-2 2v14c0 1.1.9 2 2 2h14c1.1 0 2-.9 2-2V5c0-1.1-.9-2-2-2zM9 17H7v-7h2v7zm4 0h-2V7h2v10zm4 0h-2v-4h2v4z\"/>\n",
              "    </g>\n",
              "</svg>\n",
              "  </button>\n",
              "\n",
              "<style>\n",
              "  .colab-df-quickchart {\n",
              "      --bg-color: #E8F0FE;\n",
              "      --fill-color: #1967D2;\n",
              "      --hover-bg-color: #E2EBFA;\n",
              "      --hover-fill-color: #174EA6;\n",
              "      --disabled-fill-color: #AAA;\n",
              "      --disabled-bg-color: #DDD;\n",
              "  }\n",
              "\n",
              "  [theme=dark] .colab-df-quickchart {\n",
              "      --bg-color: #3B4455;\n",
              "      --fill-color: #D2E3FC;\n",
              "      --hover-bg-color: #434B5C;\n",
              "      --hover-fill-color: #FFFFFF;\n",
              "      --disabled-bg-color: #3B4455;\n",
              "      --disabled-fill-color: #666;\n",
              "  }\n",
              "\n",
              "  .colab-df-quickchart {\n",
              "    background-color: var(--bg-color);\n",
              "    border: none;\n",
              "    border-radius: 50%;\n",
              "    cursor: pointer;\n",
              "    display: none;\n",
              "    fill: var(--fill-color);\n",
              "    height: 32px;\n",
              "    padding: 0;\n",
              "    width: 32px;\n",
              "  }\n",
              "\n",
              "  .colab-df-quickchart:hover {\n",
              "    background-color: var(--hover-bg-color);\n",
              "    box-shadow: 0 1px 2px rgba(60, 64, 67, 0.3), 0 1px 3px 1px rgba(60, 64, 67, 0.15);\n",
              "    fill: var(--button-hover-fill-color);\n",
              "  }\n",
              "\n",
              "  .colab-df-quickchart-complete:disabled,\n",
              "  .colab-df-quickchart-complete:disabled:hover {\n",
              "    background-color: var(--disabled-bg-color);\n",
              "    fill: var(--disabled-fill-color);\n",
              "    box-shadow: none;\n",
              "  }\n",
              "\n",
              "  .colab-df-spinner {\n",
              "    border: 2px solid var(--fill-color);\n",
              "    border-color: transparent;\n",
              "    border-bottom-color: var(--fill-color);\n",
              "    animation:\n",
              "      spin 1s steps(1) infinite;\n",
              "  }\n",
              "\n",
              "  @keyframes spin {\n",
              "    0% {\n",
              "      border-color: transparent;\n",
              "      border-bottom-color: var(--fill-color);\n",
              "      border-left-color: var(--fill-color);\n",
              "    }\n",
              "    20% {\n",
              "      border-color: transparent;\n",
              "      border-left-color: var(--fill-color);\n",
              "      border-top-color: var(--fill-color);\n",
              "    }\n",
              "    30% {\n",
              "      border-color: transparent;\n",
              "      border-left-color: var(--fill-color);\n",
              "      border-top-color: var(--fill-color);\n",
              "      border-right-color: var(--fill-color);\n",
              "    }\n",
              "    40% {\n",
              "      border-color: transparent;\n",
              "      border-right-color: var(--fill-color);\n",
              "      border-top-color: var(--fill-color);\n",
              "    }\n",
              "    60% {\n",
              "      border-color: transparent;\n",
              "      border-right-color: var(--fill-color);\n",
              "    }\n",
              "    80% {\n",
              "      border-color: transparent;\n",
              "      border-right-color: var(--fill-color);\n",
              "      border-bottom-color: var(--fill-color);\n",
              "    }\n",
              "    90% {\n",
              "      border-color: transparent;\n",
              "      border-bottom-color: var(--fill-color);\n",
              "    }\n",
              "  }\n",
              "</style>\n",
              "\n",
              "  <script>\n",
              "    async function quickchart(key) {\n",
              "      const quickchartButtonEl =\n",
              "        document.querySelector('#' + key + ' button');\n",
              "      quickchartButtonEl.disabled = true;  // To prevent multiple clicks.\n",
              "      quickchartButtonEl.classList.add('colab-df-spinner');\n",
              "      try {\n",
              "        const charts = await google.colab.kernel.invokeFunction(\n",
              "            'suggestCharts', [key], {});\n",
              "      } catch (error) {\n",
              "        console.error('Error during call to suggestCharts:', error);\n",
              "      }\n",
              "      quickchartButtonEl.classList.remove('colab-df-spinner');\n",
              "      quickchartButtonEl.classList.add('colab-df-quickchart-complete');\n",
              "    }\n",
              "    (() => {\n",
              "      let quickchartButtonEl =\n",
              "        document.querySelector('#df-7394a17b-3f89-4a83-a117-03dc82577a1b button');\n",
              "      quickchartButtonEl.style.display =\n",
              "        google.colab.kernel.accessAllowed ? 'block' : 'none';\n",
              "    })();\n",
              "  </script>\n",
              "</div>\n",
              "    </div>\n",
              "  </div>\n"
            ]
          },
          "metadata": {},
          "execution_count": 92
        }
      ]
    },
    {
      "cell_type": "code",
      "source": [
        "df.mean()"
      ],
      "metadata": {
        "colab": {
          "base_uri": "https://localhost:8080/"
        },
        "id": "tZmDrQ_d9MDH",
        "outputId": "3143df4c-344c-44d5-920c-f330e88cc780"
      },
      "execution_count": null,
      "outputs": [
        {
          "output_type": "stream",
          "name": "stderr",
          "text": [
            "<ipython-input-75-c61f0c8f89b5>:1: FutureWarning: The default value of numeric_only in DataFrame.mean is deprecated. In a future version, it will default to False. In addition, specifying 'numeric_only=None' is deprecated. Select only valid columns or specify the value of numeric_only to silence this warning.\n",
            "  df.mean()\n"
          ]
        },
        {
          "output_type": "execute_result",
          "data": {
            "text/plain": [
              "latitude                                      -1.891072\n",
              "longitude                                     29.880155\n",
              "year                                        2020.000000\n",
              "week_no                                       26.000000\n",
              "SulphurDioxide_SO2_column_number_density       0.000048\n",
              "                                               ...     \n",
              "Cloud_sensor_azimuth_angle                   -10.784832\n",
              "Cloud_sensor_zenith_angle                     40.436976\n",
              "Cloud_solar_azimuth_angle                    -86.800583\n",
              "Cloud_solar_zenith_angle                      27.925981\n",
              "emission                                      81.940552\n",
              "Length: 75, dtype: float64"
            ]
          },
          "metadata": {},
          "execution_count": 75
        }
      ]
    },
    {
      "cell_type": "markdown",
      "source": [
        "##Fill NA variable\n"
      ],
      "metadata": {
        "id": "rOx2Q-pE3hSt"
      }
    },
    {
      "cell_type": "code",
      "source": [
        "new_df = df.fillna(0, inplace=False)\n",
        "X_trans = new_df.iloc[:, 1:-1].values\n",
        "Y = new_df.iloc[:,-1].values.reshape(-1,1)\n",
        "# split into train and test sets\n",
        "X_train, X_test, Y_train, Y_test = train_test_split(X_trans, Y, test_size=0.3, random_state=0)"
      ],
      "metadata": {
        "id": "aLwpwK0V3UT2"
      },
      "execution_count": null,
      "outputs": []
    },
    {
      "cell_type": "code",
      "source": [],
      "metadata": {
        "colab": {
          "base_uri": "https://localhost:8080/",
          "height": 297
        },
        "id": "X_ym2aISb21q",
        "outputId": "fd534bb8-4f99-4383-9118-279a565cec35"
      },
      "execution_count": null,
      "outputs": [
        {
          "output_type": "error",
          "ename": "AttributeError",
          "evalue": "ignored",
          "traceback": [
            "\u001b[0;31m---------------------------------------------------------------------------\u001b[0m",
            "\u001b[0;31mAttributeError\u001b[0m                            Traceback (most recent call last)",
            "\u001b[0;32m<ipython-input-97-44333891b46e>\u001b[0m in \u001b[0;36m<cell line: 1>\u001b[0;34m()\u001b[0m\n\u001b[0;32m----> 1\u001b[0;31m \u001b[0mdf\u001b[0m\u001b[0;34m.\u001b[0m\u001b[0misNull\u001b[0m\u001b[0;34m(\u001b[0m\u001b[0;34m)\u001b[0m\u001b[0;34m\u001b[0m\u001b[0;34m\u001b[0m\u001b[0m\n\u001b[0m",
            "\u001b[0;32m/usr/local/lib/python3.10/dist-packages/pandas/core/generic.py\u001b[0m in \u001b[0;36m__getattr__\u001b[0;34m(self, name)\u001b[0m\n\u001b[1;32m   5900\u001b[0m         ):\n\u001b[1;32m   5901\u001b[0m             \u001b[0;32mreturn\u001b[0m \u001b[0mself\u001b[0m\u001b[0;34m[\u001b[0m\u001b[0mname\u001b[0m\u001b[0;34m]\u001b[0m\u001b[0;34m\u001b[0m\u001b[0;34m\u001b[0m\u001b[0m\n\u001b[0;32m-> 5902\u001b[0;31m         \u001b[0;32mreturn\u001b[0m \u001b[0mobject\u001b[0m\u001b[0;34m.\u001b[0m\u001b[0m__getattribute__\u001b[0m\u001b[0;34m(\u001b[0m\u001b[0mself\u001b[0m\u001b[0;34m,\u001b[0m \u001b[0mname\u001b[0m\u001b[0;34m)\u001b[0m\u001b[0;34m\u001b[0m\u001b[0;34m\u001b[0m\u001b[0m\n\u001b[0m\u001b[1;32m   5903\u001b[0m \u001b[0;34m\u001b[0m\u001b[0m\n\u001b[1;32m   5904\u001b[0m     \u001b[0;32mdef\u001b[0m \u001b[0m__setattr__\u001b[0m\u001b[0;34m(\u001b[0m\u001b[0mself\u001b[0m\u001b[0;34m,\u001b[0m \u001b[0mname\u001b[0m\u001b[0;34m:\u001b[0m \u001b[0mstr\u001b[0m\u001b[0;34m,\u001b[0m \u001b[0mvalue\u001b[0m\u001b[0;34m)\u001b[0m \u001b[0;34m->\u001b[0m \u001b[0;32mNone\u001b[0m\u001b[0;34m:\u001b[0m\u001b[0;34m\u001b[0m\u001b[0;34m\u001b[0m\u001b[0m\n",
            "\u001b[0;31mAttributeError\u001b[0m: 'DataFrame' object has no attribute 'isNull'"
          ]
        }
      ]
    },
    {
      "cell_type": "markdown",
      "source": [
        "#Linear regression training"
      ],
      "metadata": {
        "id": "61YgI7az5VuW"
      }
    },
    {
      "cell_type": "code",
      "source": [
        "column_means = df.mean()"
      ],
      "metadata": {
        "colab": {
          "base_uri": "https://localhost:8080/",
          "height": 321
        },
        "id": "egmQVtH16AFn",
        "outputId": "6a49473c-02ea-4d5f-dab3-462ff00733e5"
      },
      "execution_count": null,
      "outputs": [
        {
          "output_type": "error",
          "ename": "KeyboardInterrupt",
          "evalue": "ignored",
          "traceback": [
            "\u001b[0;31m---------------------------------------------------------------------------\u001b[0m",
            "\u001b[0;31mKeyboardInterrupt\u001b[0m                         Traceback (most recent call last)",
            "\u001b[0;32m<ipython-input-82-e5a2696a25b0>\u001b[0m in \u001b[0;36m<cell line: 1>\u001b[0;34m()\u001b[0m\n\u001b[0;32m----> 1\u001b[0;31m \u001b[0mcolumn_means\u001b[0m \u001b[0;34m=\u001b[0m \u001b[0mdf\u001b[0m\u001b[0;34m.\u001b[0m\u001b[0mmean\u001b[0m\u001b[0;34m(\u001b[0m\u001b[0;34m)\u001b[0m\u001b[0;34m\u001b[0m\u001b[0;34m\u001b[0m\u001b[0m\n\u001b[0m",
            "\u001b[0;32m/usr/local/lib/python3.10/dist-packages/pandas/core/generic.py\u001b[0m in \u001b[0;36mmean\u001b[0;34m(self, axis, skipna, level, numeric_only, **kwargs)\u001b[0m\n\u001b[1;32m  11845\u001b[0m             \u001b[0;34m**\u001b[0m\u001b[0mkwargs\u001b[0m\u001b[0;34m,\u001b[0m\u001b[0;34m\u001b[0m\u001b[0;34m\u001b[0m\u001b[0m\n\u001b[1;32m  11846\u001b[0m         ):\n\u001b[0;32m> 11847\u001b[0;31m             \u001b[0;32mreturn\u001b[0m \u001b[0mNDFrame\u001b[0m\u001b[0;34m.\u001b[0m\u001b[0mmean\u001b[0m\u001b[0;34m(\u001b[0m\u001b[0mself\u001b[0m\u001b[0;34m,\u001b[0m \u001b[0maxis\u001b[0m\u001b[0;34m,\u001b[0m \u001b[0mskipna\u001b[0m\u001b[0;34m,\u001b[0m \u001b[0mlevel\u001b[0m\u001b[0;34m,\u001b[0m \u001b[0mnumeric_only\u001b[0m\u001b[0;34m,\u001b[0m \u001b[0;34m**\u001b[0m\u001b[0mkwargs\u001b[0m\u001b[0;34m)\u001b[0m\u001b[0;34m\u001b[0m\u001b[0;34m\u001b[0m\u001b[0m\n\u001b[0m\u001b[1;32m  11848\u001b[0m \u001b[0;34m\u001b[0m\u001b[0m\n\u001b[1;32m  11849\u001b[0m         \u001b[0msetattr\u001b[0m\u001b[0;34m(\u001b[0m\u001b[0mcls\u001b[0m\u001b[0;34m,\u001b[0m \u001b[0;34m\"mean\"\u001b[0m\u001b[0;34m,\u001b[0m \u001b[0mmean\u001b[0m\u001b[0;34m)\u001b[0m\u001b[0;34m\u001b[0m\u001b[0;34m\u001b[0m\u001b[0m\n",
            "\u001b[0;32m/usr/local/lib/python3.10/dist-packages/pandas/core/generic.py\u001b[0m in \u001b[0;36mmean\u001b[0;34m(self, axis, skipna, level, numeric_only, **kwargs)\u001b[0m\n\u001b[1;32m  11399\u001b[0m         \u001b[0;34m**\u001b[0m\u001b[0mkwargs\u001b[0m\u001b[0;34m,\u001b[0m\u001b[0;34m\u001b[0m\u001b[0;34m\u001b[0m\u001b[0m\n\u001b[1;32m  11400\u001b[0m     ) -> Series | float:\n\u001b[0;32m> 11401\u001b[0;31m         return self._stat_function(\n\u001b[0m\u001b[1;32m  11402\u001b[0m             \u001b[0;34m\"mean\"\u001b[0m\u001b[0;34m,\u001b[0m \u001b[0mnanops\u001b[0m\u001b[0;34m.\u001b[0m\u001b[0mnanmean\u001b[0m\u001b[0;34m,\u001b[0m \u001b[0maxis\u001b[0m\u001b[0;34m,\u001b[0m \u001b[0mskipna\u001b[0m\u001b[0;34m,\u001b[0m \u001b[0mlevel\u001b[0m\u001b[0;34m,\u001b[0m \u001b[0mnumeric_only\u001b[0m\u001b[0;34m,\u001b[0m \u001b[0;34m**\u001b[0m\u001b[0mkwargs\u001b[0m\u001b[0;34m\u001b[0m\u001b[0;34m\u001b[0m\u001b[0m\n\u001b[1;32m  11403\u001b[0m         )\n",
            "\u001b[0;32m/usr/local/lib/python3.10/dist-packages/pandas/core/generic.py\u001b[0m in \u001b[0;36m_stat_function\u001b[0;34m(self, name, func, axis, skipna, level, numeric_only, **kwargs)\u001b[0m\n\u001b[1;32m  11351\u001b[0m                 \u001b[0mname\u001b[0m\u001b[0;34m,\u001b[0m \u001b[0maxis\u001b[0m\u001b[0;34m=\u001b[0m\u001b[0maxis\u001b[0m\u001b[0;34m,\u001b[0m \u001b[0mlevel\u001b[0m\u001b[0;34m=\u001b[0m\u001b[0mlevel\u001b[0m\u001b[0;34m,\u001b[0m \u001b[0mskipna\u001b[0m\u001b[0;34m=\u001b[0m\u001b[0mskipna\u001b[0m\u001b[0;34m,\u001b[0m \u001b[0mnumeric_only\u001b[0m\u001b[0;34m=\u001b[0m\u001b[0mnumeric_only\u001b[0m\u001b[0;34m\u001b[0m\u001b[0;34m\u001b[0m\u001b[0m\n\u001b[1;32m  11352\u001b[0m             )\n\u001b[0;32m> 11353\u001b[0;31m         return self._reduce(\n\u001b[0m\u001b[1;32m  11354\u001b[0m             \u001b[0mfunc\u001b[0m\u001b[0;34m,\u001b[0m \u001b[0mname\u001b[0m\u001b[0;34m=\u001b[0m\u001b[0mname\u001b[0m\u001b[0;34m,\u001b[0m \u001b[0maxis\u001b[0m\u001b[0;34m=\u001b[0m\u001b[0maxis\u001b[0m\u001b[0;34m,\u001b[0m \u001b[0mskipna\u001b[0m\u001b[0;34m=\u001b[0m\u001b[0mskipna\u001b[0m\u001b[0;34m,\u001b[0m \u001b[0mnumeric_only\u001b[0m\u001b[0;34m=\u001b[0m\u001b[0mnumeric_only\u001b[0m\u001b[0;34m\u001b[0m\u001b[0;34m\u001b[0m\u001b[0m\n\u001b[1;32m  11355\u001b[0m         )\n",
            "\u001b[0;32m/usr/local/lib/python3.10/dist-packages/pandas/core/frame.py\u001b[0m in \u001b[0;36m_reduce\u001b[0;34m(self, op, name, axis, skipna, numeric_only, filter_type, **kwds)\u001b[0m\n\u001b[1;32m  10854\u001b[0m             \u001b[0;31m# After possibly _get_data and transposing, we are now in the\u001b[0m\u001b[0;34m\u001b[0m\u001b[0;34m\u001b[0m\u001b[0m\n\u001b[1;32m  10855\u001b[0m             \u001b[0;31m#  simple case where we can use BlockManager.reduce\u001b[0m\u001b[0;34m\u001b[0m\u001b[0;34m\u001b[0m\u001b[0m\n\u001b[0;32m> 10856\u001b[0;31m             \u001b[0mres\u001b[0m\u001b[0;34m,\u001b[0m \u001b[0m_\u001b[0m \u001b[0;34m=\u001b[0m \u001b[0mdf\u001b[0m\u001b[0;34m.\u001b[0m\u001b[0m_mgr\u001b[0m\u001b[0;34m.\u001b[0m\u001b[0mreduce\u001b[0m\u001b[0;34m(\u001b[0m\u001b[0mblk_func\u001b[0m\u001b[0;34m,\u001b[0m \u001b[0mignore_failures\u001b[0m\u001b[0;34m=\u001b[0m\u001b[0mignore_failures\u001b[0m\u001b[0;34m)\u001b[0m\u001b[0;34m\u001b[0m\u001b[0;34m\u001b[0m\u001b[0m\n\u001b[0m\u001b[1;32m  10857\u001b[0m             \u001b[0mout\u001b[0m \u001b[0;34m=\u001b[0m \u001b[0mdf\u001b[0m\u001b[0;34m.\u001b[0m\u001b[0m_constructor\u001b[0m\u001b[0;34m(\u001b[0m\u001b[0mres\u001b[0m\u001b[0;34m)\u001b[0m\u001b[0;34m.\u001b[0m\u001b[0miloc\u001b[0m\u001b[0;34m[\u001b[0m\u001b[0;36m0\u001b[0m\u001b[0;34m]\u001b[0m\u001b[0;34m\u001b[0m\u001b[0;34m\u001b[0m\u001b[0m\n\u001b[1;32m  10858\u001b[0m             \u001b[0;32mif\u001b[0m \u001b[0mout_dtype\u001b[0m \u001b[0;32mis\u001b[0m \u001b[0;32mnot\u001b[0m \u001b[0;32mNone\u001b[0m\u001b[0;34m:\u001b[0m\u001b[0;34m\u001b[0m\u001b[0;34m\u001b[0m\u001b[0m\n",
            "\u001b[0;32m/usr/local/lib/python3.10/dist-packages/pandas/core/internals/managers.py\u001b[0m in \u001b[0;36mreduce\u001b[0;34m(self, func, ignore_failures)\u001b[0m\n\u001b[1;32m   1567\u001b[0m         \u001b[0mres_blocks\u001b[0m\u001b[0;34m:\u001b[0m \u001b[0mlist\u001b[0m\u001b[0;34m[\u001b[0m\u001b[0mBlock\u001b[0m\u001b[0;34m]\u001b[0m \u001b[0;34m=\u001b[0m \u001b[0;34m[\u001b[0m\u001b[0;34m]\u001b[0m\u001b[0;34m\u001b[0m\u001b[0;34m\u001b[0m\u001b[0m\n\u001b[1;32m   1568\u001b[0m         \u001b[0;32mfor\u001b[0m \u001b[0mblk\u001b[0m \u001b[0;32min\u001b[0m \u001b[0mself\u001b[0m\u001b[0;34m.\u001b[0m\u001b[0mblocks\u001b[0m\u001b[0;34m:\u001b[0m\u001b[0;34m\u001b[0m\u001b[0;34m\u001b[0m\u001b[0m\n\u001b[0;32m-> 1569\u001b[0;31m             \u001b[0mnbs\u001b[0m \u001b[0;34m=\u001b[0m \u001b[0mblk\u001b[0m\u001b[0;34m.\u001b[0m\u001b[0mreduce\u001b[0m\u001b[0;34m(\u001b[0m\u001b[0mfunc\u001b[0m\u001b[0;34m,\u001b[0m \u001b[0mignore_failures\u001b[0m\u001b[0;34m)\u001b[0m\u001b[0;34m\u001b[0m\u001b[0;34m\u001b[0m\u001b[0m\n\u001b[0m\u001b[1;32m   1570\u001b[0m             \u001b[0mres_blocks\u001b[0m\u001b[0;34m.\u001b[0m\u001b[0mextend\u001b[0m\u001b[0;34m(\u001b[0m\u001b[0mnbs\u001b[0m\u001b[0;34m)\u001b[0m\u001b[0;34m\u001b[0m\u001b[0;34m\u001b[0m\u001b[0m\n\u001b[1;32m   1571\u001b[0m \u001b[0;34m\u001b[0m\u001b[0m\n",
            "\u001b[0;32m/usr/local/lib/python3.10/dist-packages/pandas/core/internals/blocks.py\u001b[0m in \u001b[0;36mnewfunc\u001b[0;34m(self, *args, **kwargs)\u001b[0m\n\u001b[1;32m    131\u001b[0m \u001b[0;34m\u001b[0m\u001b[0m\n\u001b[1;32m    132\u001b[0m         \u001b[0;32mif\u001b[0m \u001b[0mself\u001b[0m\u001b[0;34m.\u001b[0m\u001b[0mndim\u001b[0m \u001b[0;34m==\u001b[0m \u001b[0;36m1\u001b[0m \u001b[0;32mor\u001b[0m \u001b[0mself\u001b[0m\u001b[0;34m.\u001b[0m\u001b[0mshape\u001b[0m\u001b[0;34m[\u001b[0m\u001b[0;36m0\u001b[0m\u001b[0;34m]\u001b[0m \u001b[0;34m==\u001b[0m \u001b[0;36m1\u001b[0m\u001b[0;34m:\u001b[0m\u001b[0;34m\u001b[0m\u001b[0;34m\u001b[0m\u001b[0m\n\u001b[0;32m--> 133\u001b[0;31m             \u001b[0;32mreturn\u001b[0m \u001b[0mmeth\u001b[0m\u001b[0;34m(\u001b[0m\u001b[0mself\u001b[0m\u001b[0;34m,\u001b[0m \u001b[0;34m*\u001b[0m\u001b[0margs\u001b[0m\u001b[0;34m,\u001b[0m \u001b[0;34m**\u001b[0m\u001b[0mkwargs\u001b[0m\u001b[0;34m)\u001b[0m\u001b[0;34m\u001b[0m\u001b[0;34m\u001b[0m\u001b[0m\n\u001b[0m\u001b[1;32m    134\u001b[0m         \u001b[0;32melse\u001b[0m\u001b[0;34m:\u001b[0m\u001b[0;34m\u001b[0m\u001b[0;34m\u001b[0m\u001b[0m\n\u001b[1;32m    135\u001b[0m             \u001b[0;31m# Split and operate column-by-column\u001b[0m\u001b[0;34m\u001b[0m\u001b[0;34m\u001b[0m\u001b[0m\n",
            "\u001b[0;32m/usr/local/lib/python3.10/dist-packages/pandas/core/internals/blocks.py\u001b[0m in \u001b[0;36mreduce\u001b[0;34m(self, func, ignore_failures)\u001b[0m\n\u001b[1;32m   2034\u001b[0m \u001b[0;34m\u001b[0m\u001b[0m\n\u001b[1;32m   2035\u001b[0m         \u001b[0;32mtry\u001b[0m\u001b[0;34m:\u001b[0m\u001b[0;34m\u001b[0m\u001b[0;34m\u001b[0m\u001b[0m\n\u001b[0;32m-> 2036\u001b[0;31m             \u001b[0mres\u001b[0m \u001b[0;34m=\u001b[0m \u001b[0mfunc\u001b[0m\u001b[0;34m(\u001b[0m\u001b[0mself\u001b[0m\u001b[0;34m.\u001b[0m\u001b[0mvalues\u001b[0m\u001b[0;34m)\u001b[0m\u001b[0;34m\u001b[0m\u001b[0;34m\u001b[0m\u001b[0m\n\u001b[0m\u001b[1;32m   2037\u001b[0m         \u001b[0;32mexcept\u001b[0m \u001b[0mTypeError\u001b[0m\u001b[0;34m:\u001b[0m\u001b[0;34m\u001b[0m\u001b[0;34m\u001b[0m\u001b[0m\n\u001b[1;32m   2038\u001b[0m             \u001b[0;32mif\u001b[0m \u001b[0;32mnot\u001b[0m \u001b[0mignore_failures\u001b[0m\u001b[0;34m:\u001b[0m\u001b[0;34m\u001b[0m\u001b[0;34m\u001b[0m\u001b[0m\n",
            "\u001b[0;32m/usr/local/lib/python3.10/dist-packages/pandas/core/frame.py\u001b[0m in \u001b[0;36mblk_func\u001b[0;34m(values, axis)\u001b[0m\n\u001b[1;32m  10825\u001b[0m                 \u001b[0;32mreturn\u001b[0m \u001b[0mvalues\u001b[0m\u001b[0;34m.\u001b[0m\u001b[0m_reduce\u001b[0m\u001b[0;34m(\u001b[0m\u001b[0mname\u001b[0m\u001b[0;34m,\u001b[0m \u001b[0mskipna\u001b[0m\u001b[0;34m=\u001b[0m\u001b[0mskipna\u001b[0m\u001b[0;34m,\u001b[0m \u001b[0;34m**\u001b[0m\u001b[0mkwds\u001b[0m\u001b[0;34m)\u001b[0m\u001b[0;34m\u001b[0m\u001b[0;34m\u001b[0m\u001b[0m\n\u001b[1;32m  10826\u001b[0m             \u001b[0;32melse\u001b[0m\u001b[0;34m:\u001b[0m\u001b[0;34m\u001b[0m\u001b[0;34m\u001b[0m\u001b[0m\n\u001b[0;32m> 10827\u001b[0;31m                 \u001b[0;32mreturn\u001b[0m \u001b[0mop\u001b[0m\u001b[0;34m(\u001b[0m\u001b[0mvalues\u001b[0m\u001b[0;34m,\u001b[0m \u001b[0maxis\u001b[0m\u001b[0;34m=\u001b[0m\u001b[0maxis\u001b[0m\u001b[0;34m,\u001b[0m \u001b[0mskipna\u001b[0m\u001b[0;34m=\u001b[0m\u001b[0mskipna\u001b[0m\u001b[0;34m,\u001b[0m \u001b[0;34m**\u001b[0m\u001b[0mkwds\u001b[0m\u001b[0;34m)\u001b[0m\u001b[0;34m\u001b[0m\u001b[0;34m\u001b[0m\u001b[0m\n\u001b[0m\u001b[1;32m  10828\u001b[0m \u001b[0;34m\u001b[0m\u001b[0m\n\u001b[1;32m  10829\u001b[0m         \u001b[0;32mdef\u001b[0m \u001b[0m_get_data\u001b[0m\u001b[0;34m(\u001b[0m\u001b[0;34m)\u001b[0m \u001b[0;34m->\u001b[0m \u001b[0mDataFrame\u001b[0m\u001b[0;34m:\u001b[0m\u001b[0;34m\u001b[0m\u001b[0;34m\u001b[0m\u001b[0m\n",
            "\u001b[0;32m/usr/local/lib/python3.10/dist-packages/pandas/core/nanops.py\u001b[0m in \u001b[0;36m_f\u001b[0;34m(*args, **kwargs)\u001b[0m\n\u001b[1;32m     91\u001b[0m             \u001b[0;32mtry\u001b[0m\u001b[0;34m:\u001b[0m\u001b[0;34m\u001b[0m\u001b[0;34m\u001b[0m\u001b[0m\n\u001b[1;32m     92\u001b[0m                 \u001b[0;32mwith\u001b[0m \u001b[0mnp\u001b[0m\u001b[0;34m.\u001b[0m\u001b[0merrstate\u001b[0m\u001b[0;34m(\u001b[0m\u001b[0minvalid\u001b[0m\u001b[0;34m=\u001b[0m\u001b[0;34m\"ignore\"\u001b[0m\u001b[0;34m)\u001b[0m\u001b[0;34m:\u001b[0m\u001b[0;34m\u001b[0m\u001b[0;34m\u001b[0m\u001b[0m\n\u001b[0;32m---> 93\u001b[0;31m                     \u001b[0;32mreturn\u001b[0m \u001b[0mf\u001b[0m\u001b[0;34m(\u001b[0m\u001b[0;34m*\u001b[0m\u001b[0margs\u001b[0m\u001b[0;34m,\u001b[0m \u001b[0;34m**\u001b[0m\u001b[0mkwargs\u001b[0m\u001b[0;34m)\u001b[0m\u001b[0;34m\u001b[0m\u001b[0;34m\u001b[0m\u001b[0m\n\u001b[0m\u001b[1;32m     94\u001b[0m             \u001b[0;32mexcept\u001b[0m \u001b[0mValueError\u001b[0m \u001b[0;32mas\u001b[0m \u001b[0me\u001b[0m\u001b[0;34m:\u001b[0m\u001b[0;34m\u001b[0m\u001b[0;34m\u001b[0m\u001b[0m\n\u001b[1;32m     95\u001b[0m                 \u001b[0;31m# we want to transform an object array\u001b[0m\u001b[0;34m\u001b[0m\u001b[0;34m\u001b[0m\u001b[0m\n",
            "\u001b[0;32m/usr/local/lib/python3.10/dist-packages/pandas/core/nanops.py\u001b[0m in \u001b[0;36mf\u001b[0;34m(values, axis, skipna, **kwds)\u001b[0m\n\u001b[1;32m    153\u001b[0m                     \u001b[0mresult\u001b[0m \u001b[0;34m=\u001b[0m \u001b[0malt\u001b[0m\u001b[0;34m(\u001b[0m\u001b[0mvalues\u001b[0m\u001b[0;34m,\u001b[0m \u001b[0maxis\u001b[0m\u001b[0;34m=\u001b[0m\u001b[0maxis\u001b[0m\u001b[0;34m,\u001b[0m \u001b[0mskipna\u001b[0m\u001b[0;34m=\u001b[0m\u001b[0mskipna\u001b[0m\u001b[0;34m,\u001b[0m \u001b[0;34m**\u001b[0m\u001b[0mkwds\u001b[0m\u001b[0;34m)\u001b[0m\u001b[0;34m\u001b[0m\u001b[0;34m\u001b[0m\u001b[0m\n\u001b[1;32m    154\u001b[0m             \u001b[0;32melse\u001b[0m\u001b[0;34m:\u001b[0m\u001b[0;34m\u001b[0m\u001b[0;34m\u001b[0m\u001b[0m\n\u001b[0;32m--> 155\u001b[0;31m                 \u001b[0mresult\u001b[0m \u001b[0;34m=\u001b[0m \u001b[0malt\u001b[0m\u001b[0;34m(\u001b[0m\u001b[0mvalues\u001b[0m\u001b[0;34m,\u001b[0m \u001b[0maxis\u001b[0m\u001b[0;34m=\u001b[0m\u001b[0maxis\u001b[0m\u001b[0;34m,\u001b[0m \u001b[0mskipna\u001b[0m\u001b[0;34m=\u001b[0m\u001b[0mskipna\u001b[0m\u001b[0;34m,\u001b[0m \u001b[0;34m**\u001b[0m\u001b[0mkwds\u001b[0m\u001b[0;34m)\u001b[0m\u001b[0;34m\u001b[0m\u001b[0;34m\u001b[0m\u001b[0m\n\u001b[0m\u001b[1;32m    156\u001b[0m \u001b[0;34m\u001b[0m\u001b[0m\n\u001b[1;32m    157\u001b[0m             \u001b[0;32mreturn\u001b[0m \u001b[0mresult\u001b[0m\u001b[0;34m\u001b[0m\u001b[0;34m\u001b[0m\u001b[0m\n",
            "\u001b[0;32m/usr/local/lib/python3.10/dist-packages/pandas/core/nanops.py\u001b[0m in \u001b[0;36mnew_func\u001b[0;34m(values, axis, skipna, mask, **kwargs)\u001b[0m\n\u001b[1;32m    416\u001b[0m             \u001b[0mmask\u001b[0m \u001b[0;34m=\u001b[0m \u001b[0misna\u001b[0m\u001b[0;34m(\u001b[0m\u001b[0mvalues\u001b[0m\u001b[0;34m)\u001b[0m\u001b[0;34m\u001b[0m\u001b[0;34m\u001b[0m\u001b[0m\n\u001b[1;32m    417\u001b[0m \u001b[0;34m\u001b[0m\u001b[0m\n\u001b[0;32m--> 418\u001b[0;31m         \u001b[0mresult\u001b[0m \u001b[0;34m=\u001b[0m \u001b[0mfunc\u001b[0m\u001b[0;34m(\u001b[0m\u001b[0mvalues\u001b[0m\u001b[0;34m,\u001b[0m \u001b[0maxis\u001b[0m\u001b[0;34m=\u001b[0m\u001b[0maxis\u001b[0m\u001b[0;34m,\u001b[0m \u001b[0mskipna\u001b[0m\u001b[0;34m=\u001b[0m\u001b[0mskipna\u001b[0m\u001b[0;34m,\u001b[0m \u001b[0mmask\u001b[0m\u001b[0;34m=\u001b[0m\u001b[0mmask\u001b[0m\u001b[0;34m,\u001b[0m \u001b[0;34m**\u001b[0m\u001b[0mkwargs\u001b[0m\u001b[0;34m)\u001b[0m\u001b[0;34m\u001b[0m\u001b[0;34m\u001b[0m\u001b[0m\n\u001b[0m\u001b[1;32m    419\u001b[0m \u001b[0;34m\u001b[0m\u001b[0m\n\u001b[1;32m    420\u001b[0m         \u001b[0;32mif\u001b[0m \u001b[0mdatetimelike\u001b[0m\u001b[0;34m:\u001b[0m\u001b[0;34m\u001b[0m\u001b[0;34m\u001b[0m\u001b[0m\n",
            "\u001b[0;32m/usr/local/lib/python3.10/dist-packages/pandas/core/nanops.py\u001b[0m in \u001b[0;36mnanmean\u001b[0;34m(values, axis, skipna, mask)\u001b[0m\n\u001b[1;32m    704\u001b[0m \u001b[0;34m\u001b[0m\u001b[0m\n\u001b[1;32m    705\u001b[0m     \u001b[0mcount\u001b[0m \u001b[0;34m=\u001b[0m \u001b[0m_get_counts\u001b[0m\u001b[0;34m(\u001b[0m\u001b[0mvalues\u001b[0m\u001b[0;34m.\u001b[0m\u001b[0mshape\u001b[0m\u001b[0;34m,\u001b[0m \u001b[0mmask\u001b[0m\u001b[0;34m,\u001b[0m \u001b[0maxis\u001b[0m\u001b[0;34m,\u001b[0m \u001b[0mdtype\u001b[0m\u001b[0;34m=\u001b[0m\u001b[0mdtype_count\u001b[0m\u001b[0;34m)\u001b[0m\u001b[0;34m\u001b[0m\u001b[0;34m\u001b[0m\u001b[0m\n\u001b[0;32m--> 706\u001b[0;31m     \u001b[0mthe_sum\u001b[0m \u001b[0;34m=\u001b[0m \u001b[0m_ensure_numeric\u001b[0m\u001b[0;34m(\u001b[0m\u001b[0mvalues\u001b[0m\u001b[0;34m.\u001b[0m\u001b[0msum\u001b[0m\u001b[0;34m(\u001b[0m\u001b[0maxis\u001b[0m\u001b[0;34m,\u001b[0m \u001b[0mdtype\u001b[0m\u001b[0;34m=\u001b[0m\u001b[0mdtype_sum\u001b[0m\u001b[0;34m)\u001b[0m\u001b[0;34m)\u001b[0m\u001b[0;34m\u001b[0m\u001b[0;34m\u001b[0m\u001b[0m\n\u001b[0m\u001b[1;32m    707\u001b[0m \u001b[0;34m\u001b[0m\u001b[0m\n\u001b[1;32m    708\u001b[0m     \u001b[0;32mif\u001b[0m \u001b[0maxis\u001b[0m \u001b[0;32mis\u001b[0m \u001b[0;32mnot\u001b[0m \u001b[0;32mNone\u001b[0m \u001b[0;32mand\u001b[0m \u001b[0mgetattr\u001b[0m\u001b[0;34m(\u001b[0m\u001b[0mthe_sum\u001b[0m\u001b[0;34m,\u001b[0m \u001b[0;34m\"ndim\"\u001b[0m\u001b[0;34m,\u001b[0m \u001b[0;32mFalse\u001b[0m\u001b[0;34m)\u001b[0m\u001b[0;34m:\u001b[0m\u001b[0;34m\u001b[0m\u001b[0;34m\u001b[0m\u001b[0m\n",
            "\u001b[0;32m/usr/local/lib/python3.10/dist-packages/numpy/core/_methods.py\u001b[0m in \u001b[0;36m_sum\u001b[0;34m(a, axis, dtype, out, keepdims, initial, where)\u001b[0m\n\u001b[1;32m     46\u001b[0m def _sum(a, axis=None, dtype=None, out=None, keepdims=False,\n\u001b[1;32m     47\u001b[0m          initial=_NoValue, where=True):\n\u001b[0;32m---> 48\u001b[0;31m     \u001b[0;32mreturn\u001b[0m \u001b[0mumr_sum\u001b[0m\u001b[0;34m(\u001b[0m\u001b[0ma\u001b[0m\u001b[0;34m,\u001b[0m \u001b[0maxis\u001b[0m\u001b[0;34m,\u001b[0m \u001b[0mdtype\u001b[0m\u001b[0;34m,\u001b[0m \u001b[0mout\u001b[0m\u001b[0;34m,\u001b[0m \u001b[0mkeepdims\u001b[0m\u001b[0;34m,\u001b[0m \u001b[0minitial\u001b[0m\u001b[0;34m,\u001b[0m \u001b[0mwhere\u001b[0m\u001b[0;34m)\u001b[0m\u001b[0;34m\u001b[0m\u001b[0;34m\u001b[0m\u001b[0m\n\u001b[0m\u001b[1;32m     49\u001b[0m \u001b[0;34m\u001b[0m\u001b[0m\n\u001b[1;32m     50\u001b[0m def _prod(a, axis=None, dtype=None, out=None, keepdims=False,\n",
            "\u001b[0;31mKeyboardInterrupt\u001b[0m: "
          ]
        }
      ]
    },
    {
      "cell_type": "code",
      "source": [
        "from sklearn.linear_model import LinearRegression\n",
        "linearRegression = LinearRegression()\n",
        "linearRegression.fit(X_train,Y_train)"
      ],
      "metadata": {
        "colab": {
          "base_uri": "https://localhost:8080/",
          "height": 74
        },
        "id": "L2CdEnH84KOM",
        "outputId": "782c3d1d-81f9-4787-eaed-a434f83ddced"
      },
      "execution_count": null,
      "outputs": [
        {
          "output_type": "execute_result",
          "data": {
            "text/plain": [
              "LinearRegression()"
            ],
            "text/html": [
              "<style>#sk-container-id-25 {color: black;background-color: white;}#sk-container-id-25 pre{padding: 0;}#sk-container-id-25 div.sk-toggleable {background-color: white;}#sk-container-id-25 label.sk-toggleable__label {cursor: pointer;display: block;width: 100%;margin-bottom: 0;padding: 0.3em;box-sizing: border-box;text-align: center;}#sk-container-id-25 label.sk-toggleable__label-arrow:before {content: \"▸\";float: left;margin-right: 0.25em;color: #696969;}#sk-container-id-25 label.sk-toggleable__label-arrow:hover:before {color: black;}#sk-container-id-25 div.sk-estimator:hover label.sk-toggleable__label-arrow:before {color: black;}#sk-container-id-25 div.sk-toggleable__content {max-height: 0;max-width: 0;overflow: hidden;text-align: left;background-color: #f0f8ff;}#sk-container-id-25 div.sk-toggleable__content pre {margin: 0.2em;color: black;border-radius: 0.25em;background-color: #f0f8ff;}#sk-container-id-25 input.sk-toggleable__control:checked~div.sk-toggleable__content {max-height: 200px;max-width: 100%;overflow: auto;}#sk-container-id-25 input.sk-toggleable__control:checked~label.sk-toggleable__label-arrow:before {content: \"▾\";}#sk-container-id-25 div.sk-estimator input.sk-toggleable__control:checked~label.sk-toggleable__label {background-color: #d4ebff;}#sk-container-id-25 div.sk-label input.sk-toggleable__control:checked~label.sk-toggleable__label {background-color: #d4ebff;}#sk-container-id-25 input.sk-hidden--visually {border: 0;clip: rect(1px 1px 1px 1px);clip: rect(1px, 1px, 1px, 1px);height: 1px;margin: -1px;overflow: hidden;padding: 0;position: absolute;width: 1px;}#sk-container-id-25 div.sk-estimator {font-family: monospace;background-color: #f0f8ff;border: 1px dotted black;border-radius: 0.25em;box-sizing: border-box;margin-bottom: 0.5em;}#sk-container-id-25 div.sk-estimator:hover {background-color: #d4ebff;}#sk-container-id-25 div.sk-parallel-item::after {content: \"\";width: 100%;border-bottom: 1px solid gray;flex-grow: 1;}#sk-container-id-25 div.sk-label:hover label.sk-toggleable__label {background-color: #d4ebff;}#sk-container-id-25 div.sk-serial::before {content: \"\";position: absolute;border-left: 1px solid gray;box-sizing: border-box;top: 0;bottom: 0;left: 50%;z-index: 0;}#sk-container-id-25 div.sk-serial {display: flex;flex-direction: column;align-items: center;background-color: white;padding-right: 0.2em;padding-left: 0.2em;position: relative;}#sk-container-id-25 div.sk-item {position: relative;z-index: 1;}#sk-container-id-25 div.sk-parallel {display: flex;align-items: stretch;justify-content: center;background-color: white;position: relative;}#sk-container-id-25 div.sk-item::before, #sk-container-id-25 div.sk-parallel-item::before {content: \"\";position: absolute;border-left: 1px solid gray;box-sizing: border-box;top: 0;bottom: 0;left: 50%;z-index: -1;}#sk-container-id-25 div.sk-parallel-item {display: flex;flex-direction: column;z-index: 1;position: relative;background-color: white;}#sk-container-id-25 div.sk-parallel-item:first-child::after {align-self: flex-end;width: 50%;}#sk-container-id-25 div.sk-parallel-item:last-child::after {align-self: flex-start;width: 50%;}#sk-container-id-25 div.sk-parallel-item:only-child::after {width: 0;}#sk-container-id-25 div.sk-dashed-wrapped {border: 1px dashed gray;margin: 0 0.4em 0.5em 0.4em;box-sizing: border-box;padding-bottom: 0.4em;background-color: white;}#sk-container-id-25 div.sk-label label {font-family: monospace;font-weight: bold;display: inline-block;line-height: 1.2em;}#sk-container-id-25 div.sk-label-container {text-align: center;}#sk-container-id-25 div.sk-container {/* jupyter's `normalize.less` sets `[hidden] { display: none; }` but bootstrap.min.css set `[hidden] { display: none !important; }` so we also need the `!important` here to be able to override the default hidden behavior on the sphinx rendered scikit-learn.org. See: https://github.com/scikit-learn/scikit-learn/issues/21755 */display: inline-block !important;position: relative;}#sk-container-id-25 div.sk-text-repr-fallback {display: none;}</style><div id=\"sk-container-id-25\" class=\"sk-top-container\"><div class=\"sk-text-repr-fallback\"><pre>LinearRegression()</pre><b>In a Jupyter environment, please rerun this cell to show the HTML representation or trust the notebook. <br />On GitHub, the HTML representation is unable to render, please try loading this page with nbviewer.org.</b></div><div class=\"sk-container\" hidden><div class=\"sk-item\"><div class=\"sk-estimator sk-toggleable\"><input class=\"sk-toggleable__control sk-hidden--visually\" id=\"sk-estimator-id-25\" type=\"checkbox\" checked><label for=\"sk-estimator-id-25\" class=\"sk-toggleable__label sk-toggleable__label-arrow\">LinearRegression</label><div class=\"sk-toggleable__content\"><pre>LinearRegression()</pre></div></div></div></div></div>"
            ]
          },
          "metadata": {},
          "execution_count": 99
        }
      ]
    },
    {
      "cell_type": "code",
      "source": [
        "linearRegression.score(X_test,Y_test)"
      ],
      "metadata": {
        "colab": {
          "base_uri": "https://localhost:8080/"
        },
        "id": "SMkq9iPB5gPu",
        "outputId": "093d5693-43e5-49e4-9df1-e07ddd0fedf6"
      },
      "execution_count": null,
      "outputs": [
        {
          "output_type": "execute_result",
          "data": {
            "text/plain": [
              "0.025160373315588402"
            ]
          },
          "metadata": {},
          "execution_count": 100
        }
      ]
    },
    {
      "cell_type": "markdown",
      "source": [
        "##Train Random Forest Model for normal column\n"
      ],
      "metadata": {
        "id": "ggfV4dCL3ye1"
      }
    },
    {
      "cell_type": "code",
      "source": [
        "from sklearn.ensemble import RandomForestRegressor\n",
        "regressor = RandomForestRegressor(n_estimators = 10)\n",
        "regressor.fit(X_train,Y_train)"
      ],
      "metadata": {
        "colab": {
          "base_uri": "https://localhost:8080/",
          "height": 129
        },
        "id": "SdG3h-ob3qwp",
        "outputId": "df12db1b-b3b0-4394-e9f5-23e644818d91"
      },
      "execution_count": null,
      "outputs": [
        {
          "output_type": "stream",
          "name": "stderr",
          "text": [
            "<ipython-input-246-c52fa342a249>:3: DataConversionWarning: A column-vector y was passed when a 1d array was expected. Please change the shape of y to (n_samples,), for example using ravel().\n",
            "  regressor.fit(X_train,Y_train)\n"
          ]
        },
        {
          "output_type": "execute_result",
          "data": {
            "text/plain": [
              "RandomForestRegressor(n_estimators=10)"
            ],
            "text/html": [
              "<style>#sk-container-id-71 {color: black;background-color: white;}#sk-container-id-71 pre{padding: 0;}#sk-container-id-71 div.sk-toggleable {background-color: white;}#sk-container-id-71 label.sk-toggleable__label {cursor: pointer;display: block;width: 100%;margin-bottom: 0;padding: 0.3em;box-sizing: border-box;text-align: center;}#sk-container-id-71 label.sk-toggleable__label-arrow:before {content: \"▸\";float: left;margin-right: 0.25em;color: #696969;}#sk-container-id-71 label.sk-toggleable__label-arrow:hover:before {color: black;}#sk-container-id-71 div.sk-estimator:hover label.sk-toggleable__label-arrow:before {color: black;}#sk-container-id-71 div.sk-toggleable__content {max-height: 0;max-width: 0;overflow: hidden;text-align: left;background-color: #f0f8ff;}#sk-container-id-71 div.sk-toggleable__content pre {margin: 0.2em;color: black;border-radius: 0.25em;background-color: #f0f8ff;}#sk-container-id-71 input.sk-toggleable__control:checked~div.sk-toggleable__content {max-height: 200px;max-width: 100%;overflow: auto;}#sk-container-id-71 input.sk-toggleable__control:checked~label.sk-toggleable__label-arrow:before {content: \"▾\";}#sk-container-id-71 div.sk-estimator input.sk-toggleable__control:checked~label.sk-toggleable__label {background-color: #d4ebff;}#sk-container-id-71 div.sk-label input.sk-toggleable__control:checked~label.sk-toggleable__label {background-color: #d4ebff;}#sk-container-id-71 input.sk-hidden--visually {border: 0;clip: rect(1px 1px 1px 1px);clip: rect(1px, 1px, 1px, 1px);height: 1px;margin: -1px;overflow: hidden;padding: 0;position: absolute;width: 1px;}#sk-container-id-71 div.sk-estimator {font-family: monospace;background-color: #f0f8ff;border: 1px dotted black;border-radius: 0.25em;box-sizing: border-box;margin-bottom: 0.5em;}#sk-container-id-71 div.sk-estimator:hover {background-color: #d4ebff;}#sk-container-id-71 div.sk-parallel-item::after {content: \"\";width: 100%;border-bottom: 1px solid gray;flex-grow: 1;}#sk-container-id-71 div.sk-label:hover label.sk-toggleable__label {background-color: #d4ebff;}#sk-container-id-71 div.sk-serial::before {content: \"\";position: absolute;border-left: 1px solid gray;box-sizing: border-box;top: 0;bottom: 0;left: 50%;z-index: 0;}#sk-container-id-71 div.sk-serial {display: flex;flex-direction: column;align-items: center;background-color: white;padding-right: 0.2em;padding-left: 0.2em;position: relative;}#sk-container-id-71 div.sk-item {position: relative;z-index: 1;}#sk-container-id-71 div.sk-parallel {display: flex;align-items: stretch;justify-content: center;background-color: white;position: relative;}#sk-container-id-71 div.sk-item::before, #sk-container-id-71 div.sk-parallel-item::before {content: \"\";position: absolute;border-left: 1px solid gray;box-sizing: border-box;top: 0;bottom: 0;left: 50%;z-index: -1;}#sk-container-id-71 div.sk-parallel-item {display: flex;flex-direction: column;z-index: 1;position: relative;background-color: white;}#sk-container-id-71 div.sk-parallel-item:first-child::after {align-self: flex-end;width: 50%;}#sk-container-id-71 div.sk-parallel-item:last-child::after {align-self: flex-start;width: 50%;}#sk-container-id-71 div.sk-parallel-item:only-child::after {width: 0;}#sk-container-id-71 div.sk-dashed-wrapped {border: 1px dashed gray;margin: 0 0.4em 0.5em 0.4em;box-sizing: border-box;padding-bottom: 0.4em;background-color: white;}#sk-container-id-71 div.sk-label label {font-family: monospace;font-weight: bold;display: inline-block;line-height: 1.2em;}#sk-container-id-71 div.sk-label-container {text-align: center;}#sk-container-id-71 div.sk-container {/* jupyter's `normalize.less` sets `[hidden] { display: none; }` but bootstrap.min.css set `[hidden] { display: none !important; }` so we also need the `!important` here to be able to override the default hidden behavior on the sphinx rendered scikit-learn.org. See: https://github.com/scikit-learn/scikit-learn/issues/21755 */display: inline-block !important;position: relative;}#sk-container-id-71 div.sk-text-repr-fallback {display: none;}</style><div id=\"sk-container-id-71\" class=\"sk-top-container\"><div class=\"sk-text-repr-fallback\"><pre>RandomForestRegressor(n_estimators=10)</pre><b>In a Jupyter environment, please rerun this cell to show the HTML representation or trust the notebook. <br />On GitHub, the HTML representation is unable to render, please try loading this page with nbviewer.org.</b></div><div class=\"sk-container\" hidden><div class=\"sk-item\"><div class=\"sk-estimator sk-toggleable\"><input class=\"sk-toggleable__control sk-hidden--visually\" id=\"sk-estimator-id-71\" type=\"checkbox\" checked><label for=\"sk-estimator-id-71\" class=\"sk-toggleable__label sk-toggleable__label-arrow\">RandomForestRegressor</label><div class=\"sk-toggleable__content\"><pre>RandomForestRegressor(n_estimators=10)</pre></div></div></div></div></div>"
            ]
          },
          "metadata": {},
          "execution_count": 246
        }
      ]
    },
    {
      "cell_type": "code",
      "source": [
        "df"
      ],
      "metadata": {
        "colab": {
          "base_uri": "https://localhost:8080/",
          "height": 443
        },
        "id": "0dCqZlo9is3f",
        "outputId": "a6f9abf5-e479-4541-fe26-421bae9a9802"
      },
      "execution_count": null,
      "outputs": [
        {
          "output_type": "execute_result",
          "data": {
            "text/plain": [
              "           ID_LAT_LON_YEAR_WEEK  latitude  longitude  year  week_no  \\\n",
              "0      ID_-0.510_29.290_2019_00    -0.510     29.290  2019        0   \n",
              "1      ID_-0.510_29.290_2019_01    -0.510     29.290  2019        1   \n",
              "2      ID_-0.510_29.290_2019_02    -0.510     29.290  2019        2   \n",
              "3      ID_-0.510_29.290_2019_03    -0.510     29.290  2019        3   \n",
              "4      ID_-0.510_29.290_2019_04    -0.510     29.290  2019        4   \n",
              "...                         ...       ...        ...   ...      ...   \n",
              "79018  ID_-3.299_30.301_2021_48    -3.299     30.301  2021       48   \n",
              "79019  ID_-3.299_30.301_2021_49    -3.299     30.301  2021       49   \n",
              "79020  ID_-3.299_30.301_2021_50    -3.299     30.301  2021       50   \n",
              "79021  ID_-3.299_30.301_2021_51    -3.299     30.301  2021       51   \n",
              "79022  ID_-3.299_30.301_2021_52    -3.299     30.301  2021       52   \n",
              "\n",
              "       SulphurDioxide_SO2_column_number_density  \\\n",
              "0                                     -0.000108   \n",
              "1                                      0.000021   \n",
              "2                                      0.000514   \n",
              "3                                           NaN   \n",
              "4                                     -0.000079   \n",
              "...                                         ...   \n",
              "79018                                  0.000284   \n",
              "79019                                  0.000083   \n",
              "79020                                       NaN   \n",
              "79021                                 -0.000034   \n",
              "79022                                 -0.000091   \n",
              "\n",
              "       SulphurDioxide_SO2_column_number_density_amf  \\\n",
              "0                                          0.603019   \n",
              "1                                          0.728214   \n",
              "2                                          0.748199   \n",
              "3                                               NaN   \n",
              "4                                          0.676296   \n",
              "...                                             ...   \n",
              "79018                                      1.195643   \n",
              "79019                                      1.130868   \n",
              "79020                                           NaN   \n",
              "79021                                      0.879397   \n",
              "79022                                      0.871951   \n",
              "\n",
              "       SulphurDioxide_SO2_slant_column_number_density  \\\n",
              "0                                           -0.000065   \n",
              "1                                            0.000014   \n",
              "2                                            0.000385   \n",
              "3                                                 NaN   \n",
              "4                                           -0.000048   \n",
              "...                                               ...   \n",
              "79018                                        0.000340   \n",
              "79019                                        0.000063   \n",
              "79020                                             NaN   \n",
              "79021                                       -0.000028   \n",
              "79022                                       -0.000079   \n",
              "\n",
              "       SulphurDioxide_cloud_fraction  SulphurDioxide_sensor_azimuth_angle  \\\n",
              "0                           0.255668                           -98.593887   \n",
              "1                           0.130988                            16.592861   \n",
              "2                           0.110018                            72.795837   \n",
              "3                                NaN                                  NaN   \n",
              "4                           0.121164                             4.121269   \n",
              "...                              ...                                  ...   \n",
              "79018                       0.191313                            72.820518   \n",
              "79019                       0.177222                           -12.856753   \n",
              "79020                            NaN                                  NaN   \n",
              "79021                       0.184209                          -100.344827   \n",
              "79022                       0.000000                            76.825638   \n",
              "\n",
              "       ...  Cloud_cloud_top_height  Cloud_cloud_base_pressure  \\\n",
              "0      ...             3664.436218               61085.809570   \n",
              "1      ...             3651.190311               66969.478735   \n",
              "2      ...             4216.986492               60068.894448   \n",
              "3      ...             5228.507736               51064.547339   \n",
              "4      ...             3980.598120               63751.125781   \n",
              "...    ...                     ...                        ...   \n",
              "79018  ...             5459.185355               60657.101913   \n",
              "79019  ...             5606.449457               60168.191528   \n",
              "79020  ...             6222.646776               56596.027209   \n",
              "79021  ...             7896.456885               46533.348194   \n",
              "79022  ...             7553.295016               47771.681887   \n",
              "\n",
              "       Cloud_cloud_base_height  Cloud_cloud_optical_depth  \\\n",
              "0                  2615.120483                  15.568533   \n",
              "1                  3174.572424                   8.690601   \n",
              "2                  3516.282669                  21.103410   \n",
              "3                  4180.973322                  15.386899   \n",
              "4                  3355.710107                   8.114694   \n",
              "...                        ...                        ...   \n",
              "79018              4590.879504                  20.245954   \n",
              "79019              4659.130378                   6.104610   \n",
              "79020              5222.646823                  14.817885   \n",
              "79021              6946.858022                  32.594768   \n",
              "79022              6553.295018                  19.464032   \n",
              "\n",
              "       Cloud_surface_albedo  Cloud_sensor_azimuth_angle  \\\n",
              "0                  0.272292                  -12.628986   \n",
              "1                  0.256830                   30.359375   \n",
              "2                  0.251101                   15.377883   \n",
              "3                  0.262043                  -11.293399   \n",
              "4                  0.235847                   38.532263   \n",
              "...                     ...                         ...   \n",
              "79018              0.304797                  -35.140368   \n",
              "79019              0.314015                    4.667058   \n",
              "79020              0.288058                   -0.340922   \n",
              "79021              0.274047                    8.427699   \n",
              "79022              0.226276                  -12.808528   \n",
              "\n",
              "       Cloud_sensor_zenith_angle  Cloud_solar_azimuth_angle  \\\n",
              "0                      35.632416                -138.786423   \n",
              "1                      39.557633                -145.183930   \n",
              "2                      30.401823                -142.519545   \n",
              "3                      24.380357                -132.665828   \n",
              "4                      37.392979                -141.509805   \n",
              "...                          ...                        ...   \n",
              "79018                  40.113533                -129.935508   \n",
              "79019                  47.528435                -134.252871   \n",
              "79020                  35.328098                -134.731723   \n",
              "79021                  48.295652                -139.447849   \n",
              "79022                  47.923441                -136.299984   \n",
              "\n",
              "       Cloud_solar_zenith_angle   emission  \n",
              "0                     30.752140   3.750994  \n",
              "1                     27.251779   4.025176  \n",
              "2                     26.193296   4.231381  \n",
              "3                     28.829155   4.305286  \n",
              "4                     22.204612   4.347317  \n",
              "...                         ...        ...  \n",
              "79018                 32.095214  29.404171  \n",
              "79019                 30.771469  29.186497  \n",
              "79020                 30.716166  29.131205  \n",
              "79021                 29.112868  28.125792  \n",
              "79022                 30.246387  27.239302  \n",
              "\n",
              "[79023 rows x 76 columns]"
            ],
            "text/html": [
              "\n",
              "  <div id=\"df-78c2eb4c-62fe-4a00-9576-2f1dcbe85495\" class=\"colab-df-container\">\n",
              "    <div>\n",
              "<style scoped>\n",
              "    .dataframe tbody tr th:only-of-type {\n",
              "        vertical-align: middle;\n",
              "    }\n",
              "\n",
              "    .dataframe tbody tr th {\n",
              "        vertical-align: top;\n",
              "    }\n",
              "\n",
              "    .dataframe thead th {\n",
              "        text-align: right;\n",
              "    }\n",
              "</style>\n",
              "<table border=\"1\" class=\"dataframe\">\n",
              "  <thead>\n",
              "    <tr style=\"text-align: right;\">\n",
              "      <th></th>\n",
              "      <th>ID_LAT_LON_YEAR_WEEK</th>\n",
              "      <th>latitude</th>\n",
              "      <th>longitude</th>\n",
              "      <th>year</th>\n",
              "      <th>week_no</th>\n",
              "      <th>SulphurDioxide_SO2_column_number_density</th>\n",
              "      <th>SulphurDioxide_SO2_column_number_density_amf</th>\n",
              "      <th>SulphurDioxide_SO2_slant_column_number_density</th>\n",
              "      <th>SulphurDioxide_cloud_fraction</th>\n",
              "      <th>SulphurDioxide_sensor_azimuth_angle</th>\n",
              "      <th>...</th>\n",
              "      <th>Cloud_cloud_top_height</th>\n",
              "      <th>Cloud_cloud_base_pressure</th>\n",
              "      <th>Cloud_cloud_base_height</th>\n",
              "      <th>Cloud_cloud_optical_depth</th>\n",
              "      <th>Cloud_surface_albedo</th>\n",
              "      <th>Cloud_sensor_azimuth_angle</th>\n",
              "      <th>Cloud_sensor_zenith_angle</th>\n",
              "      <th>Cloud_solar_azimuth_angle</th>\n",
              "      <th>Cloud_solar_zenith_angle</th>\n",
              "      <th>emission</th>\n",
              "    </tr>\n",
              "  </thead>\n",
              "  <tbody>\n",
              "    <tr>\n",
              "      <th>0</th>\n",
              "      <td>ID_-0.510_29.290_2019_00</td>\n",
              "      <td>-0.510</td>\n",
              "      <td>29.290</td>\n",
              "      <td>2019</td>\n",
              "      <td>0</td>\n",
              "      <td>-0.000108</td>\n",
              "      <td>0.603019</td>\n",
              "      <td>-0.000065</td>\n",
              "      <td>0.255668</td>\n",
              "      <td>-98.593887</td>\n",
              "      <td>...</td>\n",
              "      <td>3664.436218</td>\n",
              "      <td>61085.809570</td>\n",
              "      <td>2615.120483</td>\n",
              "      <td>15.568533</td>\n",
              "      <td>0.272292</td>\n",
              "      <td>-12.628986</td>\n",
              "      <td>35.632416</td>\n",
              "      <td>-138.786423</td>\n",
              "      <td>30.752140</td>\n",
              "      <td>3.750994</td>\n",
              "    </tr>\n",
              "    <tr>\n",
              "      <th>1</th>\n",
              "      <td>ID_-0.510_29.290_2019_01</td>\n",
              "      <td>-0.510</td>\n",
              "      <td>29.290</td>\n",
              "      <td>2019</td>\n",
              "      <td>1</td>\n",
              "      <td>0.000021</td>\n",
              "      <td>0.728214</td>\n",
              "      <td>0.000014</td>\n",
              "      <td>0.130988</td>\n",
              "      <td>16.592861</td>\n",
              "      <td>...</td>\n",
              "      <td>3651.190311</td>\n",
              "      <td>66969.478735</td>\n",
              "      <td>3174.572424</td>\n",
              "      <td>8.690601</td>\n",
              "      <td>0.256830</td>\n",
              "      <td>30.359375</td>\n",
              "      <td>39.557633</td>\n",
              "      <td>-145.183930</td>\n",
              "      <td>27.251779</td>\n",
              "      <td>4.025176</td>\n",
              "    </tr>\n",
              "    <tr>\n",
              "      <th>2</th>\n",
              "      <td>ID_-0.510_29.290_2019_02</td>\n",
              "      <td>-0.510</td>\n",
              "      <td>29.290</td>\n",
              "      <td>2019</td>\n",
              "      <td>2</td>\n",
              "      <td>0.000514</td>\n",
              "      <td>0.748199</td>\n",
              "      <td>0.000385</td>\n",
              "      <td>0.110018</td>\n",
              "      <td>72.795837</td>\n",
              "      <td>...</td>\n",
              "      <td>4216.986492</td>\n",
              "      <td>60068.894448</td>\n",
              "      <td>3516.282669</td>\n",
              "      <td>21.103410</td>\n",
              "      <td>0.251101</td>\n",
              "      <td>15.377883</td>\n",
              "      <td>30.401823</td>\n",
              "      <td>-142.519545</td>\n",
              "      <td>26.193296</td>\n",
              "      <td>4.231381</td>\n",
              "    </tr>\n",
              "    <tr>\n",
              "      <th>3</th>\n",
              "      <td>ID_-0.510_29.290_2019_03</td>\n",
              "      <td>-0.510</td>\n",
              "      <td>29.290</td>\n",
              "      <td>2019</td>\n",
              "      <td>3</td>\n",
              "      <td>NaN</td>\n",
              "      <td>NaN</td>\n",
              "      <td>NaN</td>\n",
              "      <td>NaN</td>\n",
              "      <td>NaN</td>\n",
              "      <td>...</td>\n",
              "      <td>5228.507736</td>\n",
              "      <td>51064.547339</td>\n",
              "      <td>4180.973322</td>\n",
              "      <td>15.386899</td>\n",
              "      <td>0.262043</td>\n",
              "      <td>-11.293399</td>\n",
              "      <td>24.380357</td>\n",
              "      <td>-132.665828</td>\n",
              "      <td>28.829155</td>\n",
              "      <td>4.305286</td>\n",
              "    </tr>\n",
              "    <tr>\n",
              "      <th>4</th>\n",
              "      <td>ID_-0.510_29.290_2019_04</td>\n",
              "      <td>-0.510</td>\n",
              "      <td>29.290</td>\n",
              "      <td>2019</td>\n",
              "      <td>4</td>\n",
              "      <td>-0.000079</td>\n",
              "      <td>0.676296</td>\n",
              "      <td>-0.000048</td>\n",
              "      <td>0.121164</td>\n",
              "      <td>4.121269</td>\n",
              "      <td>...</td>\n",
              "      <td>3980.598120</td>\n",
              "      <td>63751.125781</td>\n",
              "      <td>3355.710107</td>\n",
              "      <td>8.114694</td>\n",
              "      <td>0.235847</td>\n",
              "      <td>38.532263</td>\n",
              "      <td>37.392979</td>\n",
              "      <td>-141.509805</td>\n",
              "      <td>22.204612</td>\n",
              "      <td>4.347317</td>\n",
              "    </tr>\n",
              "    <tr>\n",
              "      <th>...</th>\n",
              "      <td>...</td>\n",
              "      <td>...</td>\n",
              "      <td>...</td>\n",
              "      <td>...</td>\n",
              "      <td>...</td>\n",
              "      <td>...</td>\n",
              "      <td>...</td>\n",
              "      <td>...</td>\n",
              "      <td>...</td>\n",
              "      <td>...</td>\n",
              "      <td>...</td>\n",
              "      <td>...</td>\n",
              "      <td>...</td>\n",
              "      <td>...</td>\n",
              "      <td>...</td>\n",
              "      <td>...</td>\n",
              "      <td>...</td>\n",
              "      <td>...</td>\n",
              "      <td>...</td>\n",
              "      <td>...</td>\n",
              "      <td>...</td>\n",
              "    </tr>\n",
              "    <tr>\n",
              "      <th>79018</th>\n",
              "      <td>ID_-3.299_30.301_2021_48</td>\n",
              "      <td>-3.299</td>\n",
              "      <td>30.301</td>\n",
              "      <td>2021</td>\n",
              "      <td>48</td>\n",
              "      <td>0.000284</td>\n",
              "      <td>1.195643</td>\n",
              "      <td>0.000340</td>\n",
              "      <td>0.191313</td>\n",
              "      <td>72.820518</td>\n",
              "      <td>...</td>\n",
              "      <td>5459.185355</td>\n",
              "      <td>60657.101913</td>\n",
              "      <td>4590.879504</td>\n",
              "      <td>20.245954</td>\n",
              "      <td>0.304797</td>\n",
              "      <td>-35.140368</td>\n",
              "      <td>40.113533</td>\n",
              "      <td>-129.935508</td>\n",
              "      <td>32.095214</td>\n",
              "      <td>29.404171</td>\n",
              "    </tr>\n",
              "    <tr>\n",
              "      <th>79019</th>\n",
              "      <td>ID_-3.299_30.301_2021_49</td>\n",
              "      <td>-3.299</td>\n",
              "      <td>30.301</td>\n",
              "      <td>2021</td>\n",
              "      <td>49</td>\n",
              "      <td>0.000083</td>\n",
              "      <td>1.130868</td>\n",
              "      <td>0.000063</td>\n",
              "      <td>0.177222</td>\n",
              "      <td>-12.856753</td>\n",
              "      <td>...</td>\n",
              "      <td>5606.449457</td>\n",
              "      <td>60168.191528</td>\n",
              "      <td>4659.130378</td>\n",
              "      <td>6.104610</td>\n",
              "      <td>0.314015</td>\n",
              "      <td>4.667058</td>\n",
              "      <td>47.528435</td>\n",
              "      <td>-134.252871</td>\n",
              "      <td>30.771469</td>\n",
              "      <td>29.186497</td>\n",
              "    </tr>\n",
              "    <tr>\n",
              "      <th>79020</th>\n",
              "      <td>ID_-3.299_30.301_2021_50</td>\n",
              "      <td>-3.299</td>\n",
              "      <td>30.301</td>\n",
              "      <td>2021</td>\n",
              "      <td>50</td>\n",
              "      <td>NaN</td>\n",
              "      <td>NaN</td>\n",
              "      <td>NaN</td>\n",
              "      <td>NaN</td>\n",
              "      <td>NaN</td>\n",
              "      <td>...</td>\n",
              "      <td>6222.646776</td>\n",
              "      <td>56596.027209</td>\n",
              "      <td>5222.646823</td>\n",
              "      <td>14.817885</td>\n",
              "      <td>0.288058</td>\n",
              "      <td>-0.340922</td>\n",
              "      <td>35.328098</td>\n",
              "      <td>-134.731723</td>\n",
              "      <td>30.716166</td>\n",
              "      <td>29.131205</td>\n",
              "    </tr>\n",
              "    <tr>\n",
              "      <th>79021</th>\n",
              "      <td>ID_-3.299_30.301_2021_51</td>\n",
              "      <td>-3.299</td>\n",
              "      <td>30.301</td>\n",
              "      <td>2021</td>\n",
              "      <td>51</td>\n",
              "      <td>-0.000034</td>\n",
              "      <td>0.879397</td>\n",
              "      <td>-0.000028</td>\n",
              "      <td>0.184209</td>\n",
              "      <td>-100.344827</td>\n",
              "      <td>...</td>\n",
              "      <td>7896.456885</td>\n",
              "      <td>46533.348194</td>\n",
              "      <td>6946.858022</td>\n",
              "      <td>32.594768</td>\n",
              "      <td>0.274047</td>\n",
              "      <td>8.427699</td>\n",
              "      <td>48.295652</td>\n",
              "      <td>-139.447849</td>\n",
              "      <td>29.112868</td>\n",
              "      <td>28.125792</td>\n",
              "    </tr>\n",
              "    <tr>\n",
              "      <th>79022</th>\n",
              "      <td>ID_-3.299_30.301_2021_52</td>\n",
              "      <td>-3.299</td>\n",
              "      <td>30.301</td>\n",
              "      <td>2021</td>\n",
              "      <td>52</td>\n",
              "      <td>-0.000091</td>\n",
              "      <td>0.871951</td>\n",
              "      <td>-0.000079</td>\n",
              "      <td>0.000000</td>\n",
              "      <td>76.825638</td>\n",
              "      <td>...</td>\n",
              "      <td>7553.295016</td>\n",
              "      <td>47771.681887</td>\n",
              "      <td>6553.295018</td>\n",
              "      <td>19.464032</td>\n",
              "      <td>0.226276</td>\n",
              "      <td>-12.808528</td>\n",
              "      <td>47.923441</td>\n",
              "      <td>-136.299984</td>\n",
              "      <td>30.246387</td>\n",
              "      <td>27.239302</td>\n",
              "    </tr>\n",
              "  </tbody>\n",
              "</table>\n",
              "<p>79023 rows × 76 columns</p>\n",
              "</div>\n",
              "    <div class=\"colab-df-buttons\">\n",
              "\n",
              "  <div class=\"colab-df-container\">\n",
              "    <button class=\"colab-df-convert\" onclick=\"convertToInteractive('df-78c2eb4c-62fe-4a00-9576-2f1dcbe85495')\"\n",
              "            title=\"Convert this dataframe to an interactive table.\"\n",
              "            style=\"display:none;\">\n",
              "\n",
              "  <svg xmlns=\"http://www.w3.org/2000/svg\" height=\"24px\" viewBox=\"0 -960 960 960\">\n",
              "    <path d=\"M120-120v-720h720v720H120Zm60-500h600v-160H180v160Zm220 220h160v-160H400v160Zm0 220h160v-160H400v160ZM180-400h160v-160H180v160Zm440 0h160v-160H620v160ZM180-180h160v-160H180v160Zm440 0h160v-160H620v160Z\"/>\n",
              "  </svg>\n",
              "    </button>\n",
              "\n",
              "  <style>\n",
              "    .colab-df-container {\n",
              "      display:flex;\n",
              "      gap: 12px;\n",
              "    }\n",
              "\n",
              "    .colab-df-convert {\n",
              "      background-color: #E8F0FE;\n",
              "      border: none;\n",
              "      border-radius: 50%;\n",
              "      cursor: pointer;\n",
              "      display: none;\n",
              "      fill: #1967D2;\n",
              "      height: 32px;\n",
              "      padding: 0 0 0 0;\n",
              "      width: 32px;\n",
              "    }\n",
              "\n",
              "    .colab-df-convert:hover {\n",
              "      background-color: #E2EBFA;\n",
              "      box-shadow: 0px 1px 2px rgba(60, 64, 67, 0.3), 0px 1px 3px 1px rgba(60, 64, 67, 0.15);\n",
              "      fill: #174EA6;\n",
              "    }\n",
              "\n",
              "    .colab-df-buttons div {\n",
              "      margin-bottom: 4px;\n",
              "    }\n",
              "\n",
              "    [theme=dark] .colab-df-convert {\n",
              "      background-color: #3B4455;\n",
              "      fill: #D2E3FC;\n",
              "    }\n",
              "\n",
              "    [theme=dark] .colab-df-convert:hover {\n",
              "      background-color: #434B5C;\n",
              "      box-shadow: 0px 1px 3px 1px rgba(0, 0, 0, 0.15);\n",
              "      filter: drop-shadow(0px 1px 2px rgba(0, 0, 0, 0.3));\n",
              "      fill: #FFFFFF;\n",
              "    }\n",
              "  </style>\n",
              "\n",
              "    <script>\n",
              "      const buttonEl =\n",
              "        document.querySelector('#df-78c2eb4c-62fe-4a00-9576-2f1dcbe85495 button.colab-df-convert');\n",
              "      buttonEl.style.display =\n",
              "        google.colab.kernel.accessAllowed ? 'block' : 'none';\n",
              "\n",
              "      async function convertToInteractive(key) {\n",
              "        const element = document.querySelector('#df-78c2eb4c-62fe-4a00-9576-2f1dcbe85495');\n",
              "        const dataTable =\n",
              "          await google.colab.kernel.invokeFunction('convertToInteractive',\n",
              "                                                    [key], {});\n",
              "        if (!dataTable) return;\n",
              "\n",
              "        const docLinkHtml = 'Like what you see? Visit the ' +\n",
              "          '<a target=\"_blank\" href=https://colab.research.google.com/notebooks/data_table.ipynb>data table notebook</a>'\n",
              "          + ' to learn more about interactive tables.';\n",
              "        element.innerHTML = '';\n",
              "        dataTable['output_type'] = 'display_data';\n",
              "        await google.colab.output.renderOutput(dataTable, element);\n",
              "        const docLink = document.createElement('div');\n",
              "        docLink.innerHTML = docLinkHtml;\n",
              "        element.appendChild(docLink);\n",
              "      }\n",
              "    </script>\n",
              "  </div>\n",
              "\n",
              "\n",
              "<div id=\"df-de18e3ba-5fc7-45e1-a69c-26a40dbbd2b1\">\n",
              "  <button class=\"colab-df-quickchart\" onclick=\"quickchart('df-de18e3ba-5fc7-45e1-a69c-26a40dbbd2b1')\"\n",
              "            title=\"Suggest charts\"\n",
              "            style=\"display:none;\">\n",
              "\n",
              "<svg xmlns=\"http://www.w3.org/2000/svg\" height=\"24px\"viewBox=\"0 0 24 24\"\n",
              "     width=\"24px\">\n",
              "    <g>\n",
              "        <path d=\"M19 3H5c-1.1 0-2 .9-2 2v14c0 1.1.9 2 2 2h14c1.1 0 2-.9 2-2V5c0-1.1-.9-2-2-2zM9 17H7v-7h2v7zm4 0h-2V7h2v10zm4 0h-2v-4h2v4z\"/>\n",
              "    </g>\n",
              "</svg>\n",
              "  </button>\n",
              "\n",
              "<style>\n",
              "  .colab-df-quickchart {\n",
              "      --bg-color: #E8F0FE;\n",
              "      --fill-color: #1967D2;\n",
              "      --hover-bg-color: #E2EBFA;\n",
              "      --hover-fill-color: #174EA6;\n",
              "      --disabled-fill-color: #AAA;\n",
              "      --disabled-bg-color: #DDD;\n",
              "  }\n",
              "\n",
              "  [theme=dark] .colab-df-quickchart {\n",
              "      --bg-color: #3B4455;\n",
              "      --fill-color: #D2E3FC;\n",
              "      --hover-bg-color: #434B5C;\n",
              "      --hover-fill-color: #FFFFFF;\n",
              "      --disabled-bg-color: #3B4455;\n",
              "      --disabled-fill-color: #666;\n",
              "  }\n",
              "\n",
              "  .colab-df-quickchart {\n",
              "    background-color: var(--bg-color);\n",
              "    border: none;\n",
              "    border-radius: 50%;\n",
              "    cursor: pointer;\n",
              "    display: none;\n",
              "    fill: var(--fill-color);\n",
              "    height: 32px;\n",
              "    padding: 0;\n",
              "    width: 32px;\n",
              "  }\n",
              "\n",
              "  .colab-df-quickchart:hover {\n",
              "    background-color: var(--hover-bg-color);\n",
              "    box-shadow: 0 1px 2px rgba(60, 64, 67, 0.3), 0 1px 3px 1px rgba(60, 64, 67, 0.15);\n",
              "    fill: var(--button-hover-fill-color);\n",
              "  }\n",
              "\n",
              "  .colab-df-quickchart-complete:disabled,\n",
              "  .colab-df-quickchart-complete:disabled:hover {\n",
              "    background-color: var(--disabled-bg-color);\n",
              "    fill: var(--disabled-fill-color);\n",
              "    box-shadow: none;\n",
              "  }\n",
              "\n",
              "  .colab-df-spinner {\n",
              "    border: 2px solid var(--fill-color);\n",
              "    border-color: transparent;\n",
              "    border-bottom-color: var(--fill-color);\n",
              "    animation:\n",
              "      spin 1s steps(1) infinite;\n",
              "  }\n",
              "\n",
              "  @keyframes spin {\n",
              "    0% {\n",
              "      border-color: transparent;\n",
              "      border-bottom-color: var(--fill-color);\n",
              "      border-left-color: var(--fill-color);\n",
              "    }\n",
              "    20% {\n",
              "      border-color: transparent;\n",
              "      border-left-color: var(--fill-color);\n",
              "      border-top-color: var(--fill-color);\n",
              "    }\n",
              "    30% {\n",
              "      border-color: transparent;\n",
              "      border-left-color: var(--fill-color);\n",
              "      border-top-color: var(--fill-color);\n",
              "      border-right-color: var(--fill-color);\n",
              "    }\n",
              "    40% {\n",
              "      border-color: transparent;\n",
              "      border-right-color: var(--fill-color);\n",
              "      border-top-color: var(--fill-color);\n",
              "    }\n",
              "    60% {\n",
              "      border-color: transparent;\n",
              "      border-right-color: var(--fill-color);\n",
              "    }\n",
              "    80% {\n",
              "      border-color: transparent;\n",
              "      border-right-color: var(--fill-color);\n",
              "      border-bottom-color: var(--fill-color);\n",
              "    }\n",
              "    90% {\n",
              "      border-color: transparent;\n",
              "      border-bottom-color: var(--fill-color);\n",
              "    }\n",
              "  }\n",
              "</style>\n",
              "\n",
              "  <script>\n",
              "    async function quickchart(key) {\n",
              "      const quickchartButtonEl =\n",
              "        document.querySelector('#' + key + ' button');\n",
              "      quickchartButtonEl.disabled = true;  // To prevent multiple clicks.\n",
              "      quickchartButtonEl.classList.add('colab-df-spinner');\n",
              "      try {\n",
              "        const charts = await google.colab.kernel.invokeFunction(\n",
              "            'suggestCharts', [key], {});\n",
              "      } catch (error) {\n",
              "        console.error('Error during call to suggestCharts:', error);\n",
              "      }\n",
              "      quickchartButtonEl.classList.remove('colab-df-spinner');\n",
              "      quickchartButtonEl.classList.add('colab-df-quickchart-complete');\n",
              "    }\n",
              "    (() => {\n",
              "      let quickchartButtonEl =\n",
              "        document.querySelector('#df-de18e3ba-5fc7-45e1-a69c-26a40dbbd2b1 button');\n",
              "      quickchartButtonEl.style.display =\n",
              "        google.colab.kernel.accessAllowed ? 'block' : 'none';\n",
              "    })();\n",
              "  </script>\n",
              "</div>\n",
              "    </div>\n",
              "  </div>\n"
            ]
          },
          "metadata": {},
          "execution_count": 87
        }
      ]
    },
    {
      "cell_type": "markdown",
      "source": [
        "###Test model\n"
      ],
      "metadata": {
        "id": "l0S_bs334fG2"
      }
    },
    {
      "cell_type": "code",
      "source": [
        "regressor.score(X_test,Y_test)\n"
      ],
      "metadata": {
        "colab": {
          "base_uri": "https://localhost:8080/"
        },
        "id": "r3qmWJIz34x0",
        "outputId": "8eebec35-6f1d-4f0a-e531-8b1c02e9072c"
      },
      "execution_count": null,
      "outputs": [
        {
          "output_type": "execute_result",
          "data": {
            "text/plain": [
              "0.9699527625926208"
            ]
          },
          "metadata": {},
          "execution_count": 247
        }
      ]
    },
    {
      "cell_type": "markdown",
      "source": [
        "##Train SVR Model for normal column"
      ],
      "metadata": {
        "id": "n5VIANgp7kvw"
      }
    },
    {
      "cell_type": "code",
      "source": [
        "  SC_X = StandardScaler()\n",
        "  SC_Y = StandardScaler()\n",
        "  X_StandardScaler = SC_X.fit_transform(X_train)\n",
        "  Y_StandardScaler = SC_Y.fit_transform(Y_train)"
      ],
      "metadata": {
        "id": "mS2doCFa7j_v"
      },
      "execution_count": null,
      "outputs": []
    },
    {
      "cell_type": "code",
      "source": [
        "# Train SVR model\n",
        "from sklearn.svm import SVR\n",
        "svr = SVR(kernel = 'rbf')\n",
        "svr.fit(X_StandardScaler,Y_StandardScaler)"
      ],
      "metadata": {
        "colab": {
          "base_uri": "https://localhost:8080/",
          "height": 210
        },
        "id": "BpwAwGrb8f-J",
        "outputId": "15a636ca-f4bb-4384-9ae2-8263fc4de1bd"
      },
      "execution_count": null,
      "outputs": [
        {
          "output_type": "error",
          "ename": "NameError",
          "evalue": "ignored",
          "traceback": [
            "\u001b[0;31m---------------------------------------------------------------------------\u001b[0m",
            "\u001b[0;31mNameError\u001b[0m                                 Traceback (most recent call last)",
            "\u001b[0;32m<ipython-input-61-0ceb2b0b026c>\u001b[0m in \u001b[0;36m<cell line: 4>\u001b[0;34m()\u001b[0m\n\u001b[1;32m      2\u001b[0m \u001b[0;32mfrom\u001b[0m \u001b[0msklearn\u001b[0m\u001b[0;34m.\u001b[0m\u001b[0msvm\u001b[0m \u001b[0;32mimport\u001b[0m \u001b[0mSVR\u001b[0m\u001b[0;34m\u001b[0m\u001b[0;34m\u001b[0m\u001b[0m\n\u001b[1;32m      3\u001b[0m \u001b[0msvr\u001b[0m \u001b[0;34m=\u001b[0m \u001b[0mSVR\u001b[0m\u001b[0;34m(\u001b[0m\u001b[0mkernel\u001b[0m \u001b[0;34m=\u001b[0m \u001b[0;34m'rbf'\u001b[0m\u001b[0;34m)\u001b[0m\u001b[0;34m\u001b[0m\u001b[0;34m\u001b[0m\u001b[0m\n\u001b[0;32m----> 4\u001b[0;31m \u001b[0msvr\u001b[0m\u001b[0;34m.\u001b[0m\u001b[0mfit\u001b[0m\u001b[0;34m(\u001b[0m\u001b[0mX_StandardScaler\u001b[0m\u001b[0;34m,\u001b[0m\u001b[0mY_StandardScaler\u001b[0m\u001b[0;34m)\u001b[0m\u001b[0;34m\u001b[0m\u001b[0;34m\u001b[0m\u001b[0m\n\u001b[0m",
            "\u001b[0;31mNameError\u001b[0m: name 'X_StandardScaler' is not defined"
          ]
        }
      ]
    },
    {
      "cell_type": "code",
      "source": [
        "X_test_StandardScaler = SC_X.fit_transform(X_test)\n",
        "Y_predict = svr.predict(X_test_StandardScaler)\n"
      ],
      "metadata": {
        "id": "Xsz4v45082tL"
      },
      "execution_count": null,
      "outputs": []
    },
    {
      "cell_type": "markdown",
      "source": [
        "#Score SVR\n",
        "\n"
      ],
      "metadata": {
        "id": "9veRsssDBXVl"
      }
    },
    {
      "cell_type": "code",
      "source": [
        "Y_test_StandardScaler = SC_Y.transform(Y_test)\n",
        "svr.score(X_test_StandardScaler,Y_test_StandardScaler)"
      ],
      "metadata": {
        "colab": {
          "base_uri": "https://localhost:8080/"
        },
        "id": "nyzJ1XoAFRUk",
        "outputId": "18b13c05-c436-4b4d-cba1-500d5a5508fd"
      },
      "execution_count": null,
      "outputs": [
        {
          "output_type": "execute_result",
          "data": {
            "text/plain": [
              "0.018935511064648747"
            ]
          },
          "metadata": {},
          "execution_count": 10
        }
      ]
    },
    {
      "cell_type": "code",
      "source": [
        "Y_predict_original_scale = SC_Y.inverse_transform(Y_predict.reshape(-1, 1)).ravel()\n",
        "r2 = r2_score(Y_test, Y_predict_original_scale)\n",
        "print(Y_test)\n",
        "print(Y_predict_original_scale)"
      ],
      "metadata": {
        "colab": {
          "base_uri": "https://localhost:8080/"
        },
        "id": "3Yk3q83_GIOz",
        "outputId": "e358bb20-443d-4a61-986b-87f680950cb5"
      },
      "execution_count": null,
      "outputs": [
        {
          "output_type": "stream",
          "name": "stdout",
          "text": [
            "[[  5.7709236]\n",
            " [  3.251795 ]\n",
            " [ 63.770752 ]\n",
            " ...\n",
            " [124.894264 ]\n",
            " [108.208885 ]\n",
            " [ 28.394255 ]]\n",
            "[10.49622512 59.31111368 52.07581022 ... 41.03874038 57.35321507\n",
            " 26.50386703]\n"
          ]
        }
      ]
    },
    {
      "cell_type": "code",
      "source": [],
      "metadata": {
        "id": "9PBkbvgXH9Mq"
      },
      "execution_count": null,
      "outputs": []
    },
    {
      "cell_type": "code",
      "source": [
        "# Calculate R-squared score\n",
        "from sklearn.metrics import r2_score\n",
        "\n",
        "Y_test_StandardScaler\n",
        "r2 = r2_score(Y_test_StandardScaler, Y_predict)\n",
        "r2"
      ],
      "metadata": {
        "colab": {
          "base_uri": "https://localhost:8080/"
        },
        "id": "frzzJsxWEI7c",
        "outputId": "d30c2ddd-d8ea-4dcf-d4d8-19e24d5786bb"
      },
      "execution_count": null,
      "outputs": [
        {
          "output_type": "execute_result",
          "data": {
            "text/plain": [
              "0.018935511064648747"
            ]
          },
          "metadata": {},
          "execution_count": 12
        }
      ]
    },
    {
      "cell_type": "markdown",
      "source": [
        "#Decision tree\n"
      ],
      "metadata": {
        "id": "Z8KwCpFeDnLF"
      }
    },
    {
      "cell_type": "code",
      "source": [
        "from sklearn.tree import DecisionTreeRegressor\n",
        "tree_regressor = DecisionTreeRegressor();\n",
        "tree_regressor.fit(X_train,Y_train)"
      ],
      "metadata": {
        "colab": {
          "base_uri": "https://localhost:8080/",
          "height": 74
        },
        "id": "lYJErz3rDmdS",
        "outputId": "5d5cad2b-55f8-400a-bef8-ff96dd117750"
      },
      "execution_count": null,
      "outputs": [
        {
          "output_type": "execute_result",
          "data": {
            "text/plain": [
              "DecisionTreeRegressor()"
            ],
            "text/html": [
              "<style>#sk-container-id-52 {color: black;background-color: white;}#sk-container-id-52 pre{padding: 0;}#sk-container-id-52 div.sk-toggleable {background-color: white;}#sk-container-id-52 label.sk-toggleable__label {cursor: pointer;display: block;width: 100%;margin-bottom: 0;padding: 0.3em;box-sizing: border-box;text-align: center;}#sk-container-id-52 label.sk-toggleable__label-arrow:before {content: \"▸\";float: left;margin-right: 0.25em;color: #696969;}#sk-container-id-52 label.sk-toggleable__label-arrow:hover:before {color: black;}#sk-container-id-52 div.sk-estimator:hover label.sk-toggleable__label-arrow:before {color: black;}#sk-container-id-52 div.sk-toggleable__content {max-height: 0;max-width: 0;overflow: hidden;text-align: left;background-color: #f0f8ff;}#sk-container-id-52 div.sk-toggleable__content pre {margin: 0.2em;color: black;border-radius: 0.25em;background-color: #f0f8ff;}#sk-container-id-52 input.sk-toggleable__control:checked~div.sk-toggleable__content {max-height: 200px;max-width: 100%;overflow: auto;}#sk-container-id-52 input.sk-toggleable__control:checked~label.sk-toggleable__label-arrow:before {content: \"▾\";}#sk-container-id-52 div.sk-estimator input.sk-toggleable__control:checked~label.sk-toggleable__label {background-color: #d4ebff;}#sk-container-id-52 div.sk-label input.sk-toggleable__control:checked~label.sk-toggleable__label {background-color: #d4ebff;}#sk-container-id-52 input.sk-hidden--visually {border: 0;clip: rect(1px 1px 1px 1px);clip: rect(1px, 1px, 1px, 1px);height: 1px;margin: -1px;overflow: hidden;padding: 0;position: absolute;width: 1px;}#sk-container-id-52 div.sk-estimator {font-family: monospace;background-color: #f0f8ff;border: 1px dotted black;border-radius: 0.25em;box-sizing: border-box;margin-bottom: 0.5em;}#sk-container-id-52 div.sk-estimator:hover {background-color: #d4ebff;}#sk-container-id-52 div.sk-parallel-item::after {content: \"\";width: 100%;border-bottom: 1px solid gray;flex-grow: 1;}#sk-container-id-52 div.sk-label:hover label.sk-toggleable__label {background-color: #d4ebff;}#sk-container-id-52 div.sk-serial::before {content: \"\";position: absolute;border-left: 1px solid gray;box-sizing: border-box;top: 0;bottom: 0;left: 50%;z-index: 0;}#sk-container-id-52 div.sk-serial {display: flex;flex-direction: column;align-items: center;background-color: white;padding-right: 0.2em;padding-left: 0.2em;position: relative;}#sk-container-id-52 div.sk-item {position: relative;z-index: 1;}#sk-container-id-52 div.sk-parallel {display: flex;align-items: stretch;justify-content: center;background-color: white;position: relative;}#sk-container-id-52 div.sk-item::before, #sk-container-id-52 div.sk-parallel-item::before {content: \"\";position: absolute;border-left: 1px solid gray;box-sizing: border-box;top: 0;bottom: 0;left: 50%;z-index: -1;}#sk-container-id-52 div.sk-parallel-item {display: flex;flex-direction: column;z-index: 1;position: relative;background-color: white;}#sk-container-id-52 div.sk-parallel-item:first-child::after {align-self: flex-end;width: 50%;}#sk-container-id-52 div.sk-parallel-item:last-child::after {align-self: flex-start;width: 50%;}#sk-container-id-52 div.sk-parallel-item:only-child::after {width: 0;}#sk-container-id-52 div.sk-dashed-wrapped {border: 1px dashed gray;margin: 0 0.4em 0.5em 0.4em;box-sizing: border-box;padding-bottom: 0.4em;background-color: white;}#sk-container-id-52 div.sk-label label {font-family: monospace;font-weight: bold;display: inline-block;line-height: 1.2em;}#sk-container-id-52 div.sk-label-container {text-align: center;}#sk-container-id-52 div.sk-container {/* jupyter's `normalize.less` sets `[hidden] { display: none; }` but bootstrap.min.css set `[hidden] { display: none !important; }` so we also need the `!important` here to be able to override the default hidden behavior on the sphinx rendered scikit-learn.org. See: https://github.com/scikit-learn/scikit-learn/issues/21755 */display: inline-block !important;position: relative;}#sk-container-id-52 div.sk-text-repr-fallback {display: none;}</style><div id=\"sk-container-id-52\" class=\"sk-top-container\"><div class=\"sk-text-repr-fallback\"><pre>DecisionTreeRegressor()</pre><b>In a Jupyter environment, please rerun this cell to show the HTML representation or trust the notebook. <br />On GitHub, the HTML representation is unable to render, please try loading this page with nbviewer.org.</b></div><div class=\"sk-container\" hidden><div class=\"sk-item\"><div class=\"sk-estimator sk-toggleable\"><input class=\"sk-toggleable__control sk-hidden--visually\" id=\"sk-estimator-id-52\" type=\"checkbox\" checked><label for=\"sk-estimator-id-52\" class=\"sk-toggleable__label sk-toggleable__label-arrow\">DecisionTreeRegressor</label><div class=\"sk-toggleable__content\"><pre>DecisionTreeRegressor()</pre></div></div></div></div></div>"
            ]
          },
          "metadata": {},
          "execution_count": 185
        }
      ]
    },
    {
      "cell_type": "markdown",
      "source": [
        "#Decision tree score"
      ],
      "metadata": {
        "id": "1J_OUfcHFZJ9"
      }
    },
    {
      "cell_type": "code",
      "source": [
        "tree_regressor.score(X_test,Y_test)"
      ],
      "metadata": {
        "colab": {
          "base_uri": "https://localhost:8080/"
        },
        "id": "5tIdXQ8TFYrx",
        "outputId": "6c2c722e-6e48-44ce-c5cb-857fdd2f989e"
      },
      "execution_count": null,
      "outputs": [
        {
          "output_type": "execute_result",
          "data": {
            "text/plain": [
              "0.9567870665109606"
            ]
          },
          "metadata": {},
          "execution_count": 186
        }
      ]
    },
    {
      "cell_type": "markdown",
      "source": [
        "#Kiểm tra độ quan trọng tree decision\n"
      ],
      "metadata": {
        "id": "tiwyELQkC92N"
      }
    },
    {
      "cell_type": "code",
      "source": [
        "# Loại bỏ các cột với tree decision Regression\n",
        "\n",
        "# get importance\n",
        "importance = tree_regressor.feature_importances_\n",
        "# summarize feature importance\n",
        "for i,v in enumerate(importance):\n",
        " print('Feature: %0d, Score: %.5f' % (i,v))\n",
        "# plot feature importance\n",
        "plt.bar([x for x in range(len(importance))], importance)\n",
        "plt.show()"
      ],
      "metadata": {
        "colab": {
          "base_uri": "https://localhost:8080/",
          "height": 1000
        },
        "id": "jDHymJWhC9a3",
        "outputId": "1c1bd51a-6120-41c5-8e25-73f658a6c0a8"
      },
      "execution_count": null,
      "outputs": [
        {
          "output_type": "stream",
          "name": "stdout",
          "text": [
            "Feature: 0, Score: 0.17304\n",
            "Feature: 1, Score: 0.73079\n",
            "Feature: 2, Score: 0.00207\n",
            "Feature: 3, Score: 0.06303\n",
            "Feature: 4, Score: 0.00014\n",
            "Feature: 5, Score: 0.00031\n",
            "Feature: 6, Score: 0.00009\n",
            "Feature: 7, Score: 0.00013\n",
            "Feature: 8, Score: 0.00023\n",
            "Feature: 9, Score: 0.00054\n",
            "Feature: 10, Score: 0.00014\n",
            "Feature: 11, Score: 0.00008\n",
            "Feature: 12, Score: 0.00012\n",
            "Feature: 13, Score: 0.00137\n",
            "Feature: 14, Score: 0.00043\n",
            "Feature: 15, Score: 0.00040\n",
            "Feature: 16, Score: 0.00043\n",
            "Feature: 17, Score: 0.00038\n",
            "Feature: 18, Score: 0.00026\n",
            "Feature: 19, Score: 0.00204\n",
            "Feature: 20, Score: 0.00027\n",
            "Feature: 21, Score: 0.00012\n",
            "Feature: 22, Score: 0.00016\n",
            "Feature: 23, Score: 0.00016\n",
            "Feature: 24, Score: 0.00020\n",
            "Feature: 25, Score: 0.00032\n",
            "Feature: 26, Score: 0.00021\n",
            "Feature: 27, Score: 0.00028\n",
            "Feature: 28, Score: 0.00012\n",
            "Feature: 29, Score: 0.00021\n",
            "Feature: 30, Score: 0.00005\n",
            "Feature: 31, Score: 0.00017\n",
            "Feature: 32, Score: 0.00004\n",
            "Feature: 33, Score: 0.00021\n",
            "Feature: 34, Score: 0.00030\n",
            "Feature: 35, Score: 0.00027\n",
            "Feature: 36, Score: 0.00024\n",
            "Feature: 37, Score: 0.00014\n",
            "Feature: 38, Score: 0.00053\n",
            "Feature: 39, Score: 0.00025\n",
            "Feature: 40, Score: 0.00016\n",
            "Feature: 41, Score: 0.00047\n",
            "Feature: 42, Score: 0.00031\n",
            "Feature: 43, Score: 0.00008\n",
            "Feature: 44, Score: 0.00008\n",
            "Feature: 45, Score: 0.00250\n",
            "Feature: 46, Score: 0.00025\n",
            "Feature: 47, Score: 0.00278\n",
            "Feature: 48, Score: 0.00013\n",
            "Feature: 49, Score: 0.00021\n",
            "Feature: 50, Score: 0.00139\n",
            "Feature: 51, Score: 0.00018\n",
            "Feature: 52, Score: 0.00038\n",
            "Feature: 53, Score: 0.00015\n",
            "Feature: 54, Score: 0.00202\n",
            "Feature: 55, Score: 0.00075\n",
            "Feature: 56, Score: 0.00000\n",
            "Feature: 57, Score: 0.00000\n",
            "Feature: 58, Score: 0.00000\n",
            "Feature: 59, Score: 0.00000\n",
            "Feature: 60, Score: 0.00000\n",
            "Feature: 61, Score: 0.00001\n",
            "Feature: 62, Score: 0.00000\n",
            "Feature: 63, Score: 0.00020\n",
            "Feature: 64, Score: 0.00019\n",
            "Feature: 65, Score: 0.00021\n",
            "Feature: 66, Score: 0.00031\n",
            "Feature: 67, Score: 0.00019\n",
            "Feature: 68, Score: 0.00024\n",
            "Feature: 69, Score: 0.00359\n",
            "Feature: 70, Score: 0.00035\n",
            "Feature: 71, Score: 0.00019\n",
            "Feature: 72, Score: 0.00204\n",
            "Feature: 73, Score: 0.00037\n"
          ]
        },
        {
          "output_type": "display_data",
          "data": {
            "text/plain": [
              "<Figure size 640x480 with 1 Axes>"
            ],
            "image/png": "[encoded data removed]"
          },
          "metadata": {}
        }
      ]
    },
    {
      "cell_type": "code",
      "source": [
        "# Tìm chỉ số của các feature có mức độ importance dưới 0.00050\n",
        "low_importance_features = np.where(importance < 0.0560)\n",
        "# Xóa các feature có mức độ importance dưới 0.00050\n",
        "X_train_delete_tree_regressor_random = np.delete(X_train, low_importance_features, axis=1)\n",
        "X_test_delete_tree_regressor_random = np.delete(X_test, low_importance_features, axis=1)\n",
        "print(low_importance_features[0].shape[0])\n",
        "print(X_train_delete_tree_regressor_random)"
      ],
      "metadata": {
        "colab": {
          "base_uri": "https://localhost:8080/"
        },
        "id": "LSMjxVwdDcTD",
        "outputId": "8f6f93a3-54a5-43ad-b799-21a5fc3e4ce0"
      },
      "execution_count": null,
      "outputs": [
        {
          "output_type": "stream",
          "name": "stdout",
          "text": [
            "71\n",
            "[[-2.055 30.845 28.   ]\n",
            " [-1.696 28.304 42.   ]\n",
            " [-2.836 30.364 47.   ]\n",
            " ...\n",
            " [-1.959 30.341  1.   ]\n",
            " [-1.981 31.219  1.   ]\n",
            " [-2.783 28.817  4.   ]]\n"
          ]
        }
      ]
    },
    {
      "cell_type": "code",
      "source": [
        "regressor_tree_test_after_delete = DecisionTreeRegressor()\n",
        "regressor_tree_test_after_delete.fit(X_train_delete_tree_regressor_random,Y_train)"
      ],
      "metadata": {
        "colab": {
          "base_uri": "https://localhost:8080/",
          "height": 74
        },
        "id": "tm0npH-nDYsz",
        "outputId": "95d5ae39-d5a0-41c6-d0b6-9a3e371433d4"
      },
      "execution_count": null,
      "outputs": [
        {
          "output_type": "execute_result",
          "data": {
            "text/plain": [
              "DecisionTreeRegressor()"
            ],
            "text/html": [
              "<style>#sk-container-id-74 {color: black;background-color: white;}#sk-container-id-74 pre{padding: 0;}#sk-container-id-74 div.sk-toggleable {background-color: white;}#sk-container-id-74 label.sk-toggleable__label {cursor: pointer;display: block;width: 100%;margin-bottom: 0;padding: 0.3em;box-sizing: border-box;text-align: center;}#sk-container-id-74 label.sk-toggleable__label-arrow:before {content: \"▸\";float: left;margin-right: 0.25em;color: #696969;}#sk-container-id-74 label.sk-toggleable__label-arrow:hover:before {color: black;}#sk-container-id-74 div.sk-estimator:hover label.sk-toggleable__label-arrow:before {color: black;}#sk-container-id-74 div.sk-toggleable__content {max-height: 0;max-width: 0;overflow: hidden;text-align: left;background-color: #f0f8ff;}#sk-container-id-74 div.sk-toggleable__content pre {margin: 0.2em;color: black;border-radius: 0.25em;background-color: #f0f8ff;}#sk-container-id-74 input.sk-toggleable__control:checked~div.sk-toggleable__content {max-height: 200px;max-width: 100%;overflow: auto;}#sk-container-id-74 input.sk-toggleable__control:checked~label.sk-toggleable__label-arrow:before {content: \"▾\";}#sk-container-id-74 div.sk-estimator input.sk-toggleable__control:checked~label.sk-toggleable__label {background-color: #d4ebff;}#sk-container-id-74 div.sk-label input.sk-toggleable__control:checked~label.sk-toggleable__label {background-color: #d4ebff;}#sk-container-id-74 input.sk-hidden--visually {border: 0;clip: rect(1px 1px 1px 1px);clip: rect(1px, 1px, 1px, 1px);height: 1px;margin: -1px;overflow: hidden;padding: 0;position: absolute;width: 1px;}#sk-container-id-74 div.sk-estimator {font-family: monospace;background-color: #f0f8ff;border: 1px dotted black;border-radius: 0.25em;box-sizing: border-box;margin-bottom: 0.5em;}#sk-container-id-74 div.sk-estimator:hover {background-color: #d4ebff;}#sk-container-id-74 div.sk-parallel-item::after {content: \"\";width: 100%;border-bottom: 1px solid gray;flex-grow: 1;}#sk-container-id-74 div.sk-label:hover label.sk-toggleable__label {background-color: #d4ebff;}#sk-container-id-74 div.sk-serial::before {content: \"\";position: absolute;border-left: 1px solid gray;box-sizing: border-box;top: 0;bottom: 0;left: 50%;z-index: 0;}#sk-container-id-74 div.sk-serial {display: flex;flex-direction: column;align-items: center;background-color: white;padding-right: 0.2em;padding-left: 0.2em;position: relative;}#sk-container-id-74 div.sk-item {position: relative;z-index: 1;}#sk-container-id-74 div.sk-parallel {display: flex;align-items: stretch;justify-content: center;background-color: white;position: relative;}#sk-container-id-74 div.sk-item::before, #sk-container-id-74 div.sk-parallel-item::before {content: \"\";position: absolute;border-left: 1px solid gray;box-sizing: border-box;top: 0;bottom: 0;left: 50%;z-index: -1;}#sk-container-id-74 div.sk-parallel-item {display: flex;flex-direction: column;z-index: 1;position: relative;background-color: white;}#sk-container-id-74 div.sk-parallel-item:first-child::after {align-self: flex-end;width: 50%;}#sk-container-id-74 div.sk-parallel-item:last-child::after {align-self: flex-start;width: 50%;}#sk-container-id-74 div.sk-parallel-item:only-child::after {width: 0;}#sk-container-id-74 div.sk-dashed-wrapped {border: 1px dashed gray;margin: 0 0.4em 0.5em 0.4em;box-sizing: border-box;padding-bottom: 0.4em;background-color: white;}#sk-container-id-74 div.sk-label label {font-family: monospace;font-weight: bold;display: inline-block;line-height: 1.2em;}#sk-container-id-74 div.sk-label-container {text-align: center;}#sk-container-id-74 div.sk-container {/* jupyter's `normalize.less` sets `[hidden] { display: none; }` but bootstrap.min.css set `[hidden] { display: none !important; }` so we also need the `!important` here to be able to override the default hidden behavior on the sphinx rendered scikit-learn.org. See: https://github.com/scikit-learn/scikit-learn/issues/21755 */display: inline-block !important;position: relative;}#sk-container-id-74 div.sk-text-repr-fallback {display: none;}</style><div id=\"sk-container-id-74\" class=\"sk-top-container\"><div class=\"sk-text-repr-fallback\"><pre>DecisionTreeRegressor()</pre><b>In a Jupyter environment, please rerun this cell to show the HTML representation or trust the notebook. <br />On GitHub, the HTML representation is unable to render, please try loading this page with nbviewer.org.</b></div><div class=\"sk-container\" hidden><div class=\"sk-item\"><div class=\"sk-estimator sk-toggleable\"><input class=\"sk-toggleable__control sk-hidden--visually\" id=\"sk-estimator-id-74\" type=\"checkbox\" checked><label for=\"sk-estimator-id-74\" class=\"sk-toggleable__label sk-toggleable__label-arrow\">DecisionTreeRegressor</label><div class=\"sk-toggleable__content\"><pre>DecisionTreeRegressor()</pre></div></div></div></div></div>"
            ]
          },
          "metadata": {},
          "execution_count": 256
        }
      ]
    },
    {
      "cell_type": "code",
      "source": [
        "regressor_tree_test_after_delete.score(X_test_delete_tree_regressor_random,Y_test)"
      ],
      "metadata": {
        "colab": {
          "base_uri": "https://localhost:8080/"
        },
        "id": "uTZs3yTJeKob",
        "outputId": "e5ed2a08-05a0-432c-885e-1c43835f82fe"
      },
      "execution_count": null,
      "outputs": [
        {
          "output_type": "execute_result",
          "data": {
            "text/plain": [
              "0.9716216122980265"
            ]
          },
          "metadata": {},
          "execution_count": 257
        }
      ]
    },
    {
      "cell_type": "markdown",
      "source": [
        "###Model xgboost\n"
      ],
      "metadata": {
        "id": "rKlJZfZVJqvD"
      }
    },
    {
      "cell_type": "code",
      "source": [
        "# xgboost for feature importance on a regression problem\n",
        "from sklearn.datasets import make_regression\n",
        "from xgboost import XGBRegressor\n",
        "# define dataset\n",
        "# define the model\n",
        "model = XGBRegressor()\n",
        "# fit the model\n",
        "model.fit(X_train, Y_train)"
      ],
      "metadata": {
        "colab": {
          "base_uri": "https://localhost:8080/"
        },
        "id": "2eX1tre4KBpP",
        "outputId": "e54a669e-39e8-4929-89a7-1ad4f2b42ef1"
      },
      "execution_count": null,
      "outputs": [
        {
          "output_type": "execute_result",
          "data": {
            "text/plain": [
              "XGBRegressor(base_score=None, booster=None, callbacks=None,\n",
              "             colsample_bylevel=None, colsample_bynode=None,\n",
              "             colsample_bytree=None, device=None, early_stopping_rounds=None,\n",
              "             enable_categorical=False, eval_metric=None, feature_types=None,\n",
              "             gamma=None, grow_policy=None, importance_type=None,\n",
              "             interaction_constraints=None, learning_rate=None, max_bin=None,\n",
              "             max_cat_threshold=None, max_cat_to_onehot=None,\n",
              "             max_delta_step=None, max_depth=None, max_leaves=None,\n",
              "             min_child_weight=None, missing=nan, monotone_constraints=None,\n",
              "             multi_strategy=None, n_estimators=None, n_jobs=None,\n",
              "             num_parallel_tree=None, random_state=None, ...)"
            ],
            "text/html": [
              "<style>#sk-container-id-56 {color: black;background-color: white;}#sk-container-id-56 pre{padding: 0;}#sk-container-id-56 div.sk-toggleable {background-color: white;}#sk-container-id-56 label.sk-toggleable__label {cursor: pointer;display: block;width: 100%;margin-bottom: 0;padding: 0.3em;box-sizing: border-box;text-align: center;}#sk-container-id-56 label.sk-toggleable__label-arrow:before {content: \"▸\";float: left;margin-right: 0.25em;color: #696969;}#sk-container-id-56 label.sk-toggleable__label-arrow:hover:before {color: black;}#sk-container-id-56 div.sk-estimator:hover label.sk-toggleable__label-arrow:before {color: black;}#sk-container-id-56 div.sk-toggleable__content {max-height: 0;max-width: 0;overflow: hidden;text-align: left;background-color: #f0f8ff;}#sk-container-id-56 div.sk-toggleable__content pre {margin: 0.2em;color: black;border-radius: 0.25em;background-color: #f0f8ff;}#sk-container-id-56 input.sk-toggleable__control:checked~div.sk-toggleable__content {max-height: 200px;max-width: 100%;overflow: auto;}#sk-container-id-56 input.sk-toggleable__control:checked~label.sk-toggleable__label-arrow:before {content: \"▾\";}#sk-container-id-56 div.sk-estimator input.sk-toggleable__control:checked~label.sk-toggleable__label {background-color: #d4ebff;}#sk-container-id-56 div.sk-label input.sk-toggleable__control:checked~label.sk-toggleable__label {background-color: #d4ebff;}#sk-container-id-56 input.sk-hidden--visually {border: 0;clip: rect(1px 1px 1px 1px);clip: rect(1px, 1px, 1px, 1px);height: 1px;margin: -1px;overflow: hidden;padding: 0;position: absolute;width: 1px;}#sk-container-id-56 div.sk-estimator {font-family: monospace;background-color: #f0f8ff;border: 1px dotted black;border-radius: 0.25em;box-sizing: border-box;margin-bottom: 0.5em;}#sk-container-id-56 div.sk-estimator:hover {background-color: #d4ebff;}#sk-container-id-56 div.sk-parallel-item::after {content: \"\";width: 100%;border-bottom: 1px solid gray;flex-grow: 1;}#sk-container-id-56 div.sk-label:hover label.sk-toggleable__label {background-color: #d4ebff;}#sk-container-id-56 div.sk-serial::before {content: \"\";position: absolute;border-left: 1px solid gray;box-sizing: border-box;top: 0;bottom: 0;left: 50%;z-index: 0;}#sk-container-id-56 div.sk-serial {display: flex;flex-direction: column;align-items: center;background-color: white;padding-right: 0.2em;padding-left: 0.2em;position: relative;}#sk-container-id-56 div.sk-item {position: relative;z-index: 1;}#sk-container-id-56 div.sk-parallel {display: flex;align-items: stretch;justify-content: center;background-color: white;position: relative;}#sk-container-id-56 div.sk-item::before, #sk-container-id-56 div.sk-parallel-item::before {content: \"\";position: absolute;border-left: 1px solid gray;box-sizing: border-box;top: 0;bottom: 0;left: 50%;z-index: -1;}#sk-container-id-56 div.sk-parallel-item {display: flex;flex-direction: column;z-index: 1;position: relative;background-color: white;}#sk-container-id-56 div.sk-parallel-item:first-child::after {align-self: flex-end;width: 50%;}#sk-container-id-56 div.sk-parallel-item:last-child::after {align-self: flex-start;width: 50%;}#sk-container-id-56 div.sk-parallel-item:only-child::after {width: 0;}#sk-container-id-56 div.sk-dashed-wrapped {border: 1px dashed gray;margin: 0 0.4em 0.5em 0.4em;box-sizing: border-box;padding-bottom: 0.4em;background-color: white;}#sk-container-id-56 div.sk-label label {font-family: monospace;font-weight: bold;display: inline-block;line-height: 1.2em;}#sk-container-id-56 div.sk-label-container {text-align: center;}#sk-container-id-56 div.sk-container {/* jupyter's `normalize.less` sets `[hidden] { display: none; }` but bootstrap.min.css set `[hidden] { display: none !important; }` so we also need the `!important` here to be able to override the default hidden behavior on the sphinx rendered scikit-learn.org. See: https://github.com/scikit-learn/scikit-learn/issues/21755 */display: inline-block !important;position: relative;}#sk-container-id-56 div.sk-text-repr-fallback {display: none;}</style><div id=\"sk-container-id-56\" class=\"sk-top-container\"><div class=\"sk-text-repr-fallback\"><pre>XGBRegressor(base_score=None, booster=None, callbacks=None,\n",
              "             colsample_bylevel=None, colsample_bynode=None,\n",
              "             colsample_bytree=None, device=None, early_stopping_rounds=None,\n",
              "             enable_categorical=False, eval_metric=None, feature_types=None,\n",
              "             gamma=None, grow_policy=None, importance_type=None,\n",
              "             interaction_constraints=None, learning_rate=None, max_bin=None,\n",
              "             max_cat_threshold=None, max_cat_to_onehot=None,\n",
              "             max_delta_step=None, max_depth=None, max_leaves=None,\n",
              "             min_child_weight=None, missing=nan, monotone_constraints=None,\n",
              "             multi_strategy=None, n_estimators=None, n_jobs=None,\n",
              "             num_parallel_tree=None, random_state=None, ...)</pre><b>In a Jupyter environment, please rerun this cell to show the HTML representation or trust the notebook. <br />On GitHub, the HTML representation is unable to render, please try loading this page with nbviewer.org.</b></div><div class=\"sk-container\" hidden><div class=\"sk-item\"><div class=\"sk-estimator sk-toggleable\"><input class=\"sk-toggleable__control sk-hidden--visually\" id=\"sk-estimator-id-56\" type=\"checkbox\" checked><label for=\"sk-estimator-id-56\" class=\"sk-toggleable__label sk-toggleable__label-arrow\">XGBRegressor</label><div class=\"sk-toggleable__content\"><pre>XGBRegressor(base_score=None, booster=None, callbacks=None,\n",
              "             colsample_bylevel=None, colsample_bynode=None,\n",
              "             colsample_bytree=None, device=None, early_stopping_rounds=None,\n",
              "             enable_categorical=False, eval_metric=None, feature_types=None,\n",
              "             gamma=None, grow_policy=None, importance_type=None,\n",
              "             interaction_constraints=None, learning_rate=None, max_bin=None,\n",
              "             max_cat_threshold=None, max_cat_to_onehot=None,\n",
              "             max_delta_step=None, max_depth=None, max_leaves=None,\n",
              "             min_child_weight=None, missing=nan, monotone_constraints=None,\n",
              "             multi_strategy=None, n_estimators=None, n_jobs=None,\n",
              "             num_parallel_tree=None, random_state=None, ...)</pre></div></div></div></div></div>"
            ]
          },
          "metadata": {},
          "execution_count": 197
        }
      ]
    },
    {
      "cell_type": "markdown",
      "source": [
        "#Score XGBRegressor\n"
      ],
      "metadata": {
        "id": "Wg9ryZeoBaz-"
      }
    },
    {
      "cell_type": "code",
      "source": [
        "model.score(X_test,Y_test)\n"
      ],
      "metadata": {
        "colab": {
          "base_uri": "https://localhost:8080/"
        },
        "id": "5JEmJqLXJTDr",
        "outputId": "06a74fa4-590f-450c-87ff-146f5b765464"
      },
      "execution_count": null,
      "outputs": [
        {
          "output_type": "execute_result",
          "data": {
            "text/plain": [
              "0.9703085577383059"
            ]
          },
          "metadata": {},
          "execution_count": 198
        }
      ]
    },
    {
      "cell_type": "code",
      "source": [
        "\n",
        "# get importance\n",
        "importance = model.feature_importances_\n",
        "# summarize feature importance\n",
        "for i,v in enumerate(importance):\n",
        " print('Feature: %0d, Score: %.5f' % (i,v))\n",
        "# plot feature importance\n",
        "plt.bar([x for x in range(len(importance))], importance)\n",
        "plt.show()"
      ],
      "metadata": {
        "colab": {
          "base_uri": "https://localhost:8080/",
          "height": 1000
        },
        "id": "0NQgxX_LHE_Y",
        "outputId": "e09d1861-b29e-4367-8da8-4a416329654d"
      },
      "execution_count": null,
      "outputs": [
        {
          "output_type": "stream",
          "name": "stdout",
          "text": [
            "Feature: 0, Score: 0.33952\n",
            "Feature: 1, Score: 0.19639\n",
            "Feature: 2, Score: 0.00698\n",
            "Feature: 3, Score: 0.12720\n",
            "Feature: 4, Score: 0.00082\n",
            "Feature: 5, Score: 0.00214\n",
            "Feature: 6, Score: 0.00242\n",
            "Feature: 7, Score: 0.00168\n",
            "Feature: 8, Score: 0.00218\n",
            "Feature: 9, Score: 0.00146\n",
            "Feature: 10, Score: 0.00347\n",
            "Feature: 11, Score: 0.00495\n",
            "Feature: 12, Score: 0.00369\n",
            "Feature: 13, Score: 0.00350\n",
            "Feature: 14, Score: 0.00615\n",
            "Feature: 15, Score: 0.01132\n",
            "Feature: 16, Score: 0.00364\n",
            "Feature: 17, Score: 0.00258\n",
            "Feature: 18, Score: 0.00293\n",
            "Feature: 19, Score: 0.00776\n",
            "Feature: 20, Score: 0.00291\n",
            "Feature: 21, Score: 0.01036\n",
            "Feature: 22, Score: 0.00048\n",
            "Feature: 23, Score: 0.00342\n",
            "Feature: 24, Score: 0.00324\n",
            "Feature: 25, Score: 0.00838\n",
            "Feature: 26, Score: 0.00166\n",
            "Feature: 27, Score: 0.00230\n",
            "Feature: 28, Score: 0.00168\n",
            "Feature: 29, Score: 0.00301\n",
            "Feature: 30, Score: 0.00131\n",
            "Feature: 31, Score: 0.00217\n",
            "Feature: 32, Score: 0.00346\n",
            "Feature: 33, Score: 0.00117\n",
            "Feature: 34, Score: 0.00732\n",
            "Feature: 35, Score: 0.00149\n",
            "Feature: 36, Score: 0.00295\n",
            "Feature: 37, Score: 0.00231\n",
            "Feature: 38, Score: 0.02485\n",
            "Feature: 39, Score: 0.00288\n",
            "Feature: 40, Score: 0.00438\n",
            "Feature: 41, Score: 0.00456\n",
            "Feature: 42, Score: 0.00321\n",
            "Feature: 43, Score: 0.00181\n",
            "Feature: 44, Score: 0.01057\n",
            "Feature: 45, Score: 0.01125\n",
            "Feature: 46, Score: 0.00378\n",
            "Feature: 47, Score: 0.00605\n",
            "Feature: 48, Score: 0.00613\n",
            "Feature: 49, Score: 0.00430\n",
            "Feature: 50, Score: 0.00789\n",
            "Feature: 51, Score: 0.00405\n",
            "Feature: 52, Score: 0.00362\n",
            "Feature: 53, Score: 0.00288\n",
            "Feature: 54, Score: 0.00657\n",
            "Feature: 55, Score: 0.01269\n",
            "Feature: 56, Score: 0.00010\n",
            "Feature: 57, Score: 0.00000\n",
            "Feature: 58, Score: 0.00000\n",
            "Feature: 59, Score: 0.00000\n",
            "Feature: 60, Score: 0.00000\n",
            "Feature: 61, Score: 0.00000\n",
            "Feature: 62, Score: 0.00738\n",
            "Feature: 63, Score: 0.01131\n",
            "Feature: 64, Score: 0.00228\n",
            "Feature: 65, Score: 0.02114\n",
            "Feature: 66, Score: 0.00303\n",
            "Feature: 67, Score: 0.00923\n",
            "Feature: 68, Score: 0.00271\n",
            "Feature: 69, Score: 0.01420\n",
            "Feature: 70, Score: 0.00260\n",
            "Feature: 71, Score: 0.00249\n",
            "Feature: 72, Score: 0.00830\n",
            "Feature: 73, Score: 0.00337\n"
          ]
        },
        {
          "output_type": "display_data",
          "data": {
            "text/plain": [
              "<Figure size 640x480 with 1 Axes>"
            ],
            "image/png": "[encoded data removed]"
          },
          "metadata": {}
        }
      ]
    },
    {
      "cell_type": "code",
      "source": [
        "# Tìm chỉ số của các feature có mức độ importance dưới 0.00050\n",
        "low_importance_features = np.where(importance <= 0.13)\n",
        "print(low_importance_features[0].shape[0])\n",
        "# Xóa các feature có mức độ importance dưới 0.00050\n",
        "X_train_delete_xgboost = np.delete(X_train, low_importance_features, axis=1)\n",
        "X_test_delete_xgboost = np.delete(X_test, low_importance_features, axis=1)\n"
      ],
      "metadata": {
        "id": "b4DeLkEYJnbT",
        "colab": {
          "base_uri": "https://localhost:8080/"
        },
        "outputId": "54b2cf37-2f97-4d87-ce96-75a2f94dc961"
      },
      "execution_count": null,
      "outputs": [
        {
          "output_type": "stream",
          "name": "stdout",
          "text": [
            "72\n"
          ]
        }
      ]
    },
    {
      "cell_type": "code",
      "source": [
        "# Train model sau khi xoá\n",
        "xgboostModel = XGBRegressor()\n",
        "xgboostModel.fit(X_train_delete_xgboost,Y_train)"
      ],
      "metadata": {
        "colab": {
          "base_uri": "https://localhost:8080/",
          "height": 248
        },
        "id": "ACErGZc7J3jE",
        "outputId": "75aaafc0-2dfa-4a13-eb6f-7da520688bd2"
      },
      "execution_count": null,
      "outputs": [
        {
          "output_type": "execute_result",
          "data": {
            "text/plain": [
              "XGBRegressor(base_score=None, booster=None, callbacks=None,\n",
              "             colsample_bylevel=None, colsample_bynode=None,\n",
              "             colsample_bytree=None, device=None, early_stopping_rounds=None,\n",
              "             enable_categorical=False, eval_metric=None, feature_types=None,\n",
              "             gamma=None, grow_policy=None, importance_type=None,\n",
              "             interaction_constraints=None, learning_rate=None, max_bin=None,\n",
              "             max_cat_threshold=None, max_cat_to_onehot=None,\n",
              "             max_delta_step=None, max_depth=None, max_leaves=None,\n",
              "             min_child_weight=None, missing=nan, monotone_constraints=None,\n",
              "             multi_strategy=None, n_estimators=None, n_jobs=None,\n",
              "             num_parallel_tree=None, random_state=None, ...)"
            ],
            "text/html": [
              "<style>#sk-container-id-67 {color: black;background-color: white;}#sk-container-id-67 pre{padding: 0;}#sk-container-id-67 div.sk-toggleable {background-color: white;}#sk-container-id-67 label.sk-toggleable__label {cursor: pointer;display: block;width: 100%;margin-bottom: 0;padding: 0.3em;box-sizing: border-box;text-align: center;}#sk-container-id-67 label.sk-toggleable__label-arrow:before {content: \"▸\";float: left;margin-right: 0.25em;color: #696969;}#sk-container-id-67 label.sk-toggleable__label-arrow:hover:before {color: black;}#sk-container-id-67 div.sk-estimator:hover label.sk-toggleable__label-arrow:before {color: black;}#sk-container-id-67 div.sk-toggleable__content {max-height: 0;max-width: 0;overflow: hidden;text-align: left;background-color: #f0f8ff;}#sk-container-id-67 div.sk-toggleable__content pre {margin: 0.2em;color: black;border-radius: 0.25em;background-color: #f0f8ff;}#sk-container-id-67 input.sk-toggleable__control:checked~div.sk-toggleable__content {max-height: 200px;max-width: 100%;overflow: auto;}#sk-container-id-67 input.sk-toggleable__control:checked~label.sk-toggleable__label-arrow:before {content: \"▾\";}#sk-container-id-67 div.sk-estimator input.sk-toggleable__control:checked~label.sk-toggleable__label {background-color: #d4ebff;}#sk-container-id-67 div.sk-label input.sk-toggleable__control:checked~label.sk-toggleable__label {background-color: #d4ebff;}#sk-container-id-67 input.sk-hidden--visually {border: 0;clip: rect(1px 1px 1px 1px);clip: rect(1px, 1px, 1px, 1px);height: 1px;margin: -1px;overflow: hidden;padding: 0;position: absolute;width: 1px;}#sk-container-id-67 div.sk-estimator {font-family: monospace;background-color: #f0f8ff;border: 1px dotted black;border-radius: 0.25em;box-sizing: border-box;margin-bottom: 0.5em;}#sk-container-id-67 div.sk-estimator:hover {background-color: #d4ebff;}#sk-container-id-67 div.sk-parallel-item::after {content: \"\";width: 100%;border-bottom: 1px solid gray;flex-grow: 1;}#sk-container-id-67 div.sk-label:hover label.sk-toggleable__label {background-color: #d4ebff;}#sk-container-id-67 div.sk-serial::before {content: \"\";position: absolute;border-left: 1px solid gray;box-sizing: border-box;top: 0;bottom: 0;left: 50%;z-index: 0;}#sk-container-id-67 div.sk-serial {display: flex;flex-direction: column;align-items: center;background-color: white;padding-right: 0.2em;padding-left: 0.2em;position: relative;}#sk-container-id-67 div.sk-item {position: relative;z-index: 1;}#sk-container-id-67 div.sk-parallel {display: flex;align-items: stretch;justify-content: center;background-color: white;position: relative;}#sk-container-id-67 div.sk-item::before, #sk-container-id-67 div.sk-parallel-item::before {content: \"\";position: absolute;border-left: 1px solid gray;box-sizing: border-box;top: 0;bottom: 0;left: 50%;z-index: -1;}#sk-container-id-67 div.sk-parallel-item {display: flex;flex-direction: column;z-index: 1;position: relative;background-color: white;}#sk-container-id-67 div.sk-parallel-item:first-child::after {align-self: flex-end;width: 50%;}#sk-container-id-67 div.sk-parallel-item:last-child::after {align-self: flex-start;width: 50%;}#sk-container-id-67 div.sk-parallel-item:only-child::after {width: 0;}#sk-container-id-67 div.sk-dashed-wrapped {border: 1px dashed gray;margin: 0 0.4em 0.5em 0.4em;box-sizing: border-box;padding-bottom: 0.4em;background-color: white;}#sk-container-id-67 div.sk-label label {font-family: monospace;font-weight: bold;display: inline-block;line-height: 1.2em;}#sk-container-id-67 div.sk-label-container {text-align: center;}#sk-container-id-67 div.sk-container {/* jupyter's `normalize.less` sets `[hidden] { display: none; }` but bootstrap.min.css set `[hidden] { display: none !important; }` so we also need the `!important` here to be able to override the default hidden behavior on the sphinx rendered scikit-learn.org. See: https://github.com/scikit-learn/scikit-learn/issues/21755 */display: inline-block !important;position: relative;}#sk-container-id-67 div.sk-text-repr-fallback {display: none;}</style><div id=\"sk-container-id-67\" class=\"sk-top-container\"><div class=\"sk-text-repr-fallback\"><pre>XGBRegressor(base_score=None, booster=None, callbacks=None,\n",
              "             colsample_bylevel=None, colsample_bynode=None,\n",
              "             colsample_bytree=None, device=None, early_stopping_rounds=None,\n",
              "             enable_categorical=False, eval_metric=None, feature_types=None,\n",
              "             gamma=None, grow_policy=None, importance_type=None,\n",
              "             interaction_constraints=None, learning_rate=None, max_bin=None,\n",
              "             max_cat_threshold=None, max_cat_to_onehot=None,\n",
              "             max_delta_step=None, max_depth=None, max_leaves=None,\n",
              "             min_child_weight=None, missing=nan, monotone_constraints=None,\n",
              "             multi_strategy=None, n_estimators=None, n_jobs=None,\n",
              "             num_parallel_tree=None, random_state=None, ...)</pre><b>In a Jupyter environment, please rerun this cell to show the HTML representation or trust the notebook. <br />On GitHub, the HTML representation is unable to render, please try loading this page with nbviewer.org.</b></div><div class=\"sk-container\" hidden><div class=\"sk-item\"><div class=\"sk-estimator sk-toggleable\"><input class=\"sk-toggleable__control sk-hidden--visually\" id=\"sk-estimator-id-67\" type=\"checkbox\" checked><label for=\"sk-estimator-id-67\" class=\"sk-toggleable__label sk-toggleable__label-arrow\">XGBRegressor</label><div class=\"sk-toggleable__content\"><pre>XGBRegressor(base_score=None, booster=None, callbacks=None,\n",
              "             colsample_bylevel=None, colsample_bynode=None,\n",
              "             colsample_bytree=None, device=None, early_stopping_rounds=None,\n",
              "             enable_categorical=False, eval_metric=None, feature_types=None,\n",
              "             gamma=None, grow_policy=None, importance_type=None,\n",
              "             interaction_constraints=None, learning_rate=None, max_bin=None,\n",
              "             max_cat_threshold=None, max_cat_to_onehot=None,\n",
              "             max_delta_step=None, max_depth=None, max_leaves=None,\n",
              "             min_child_weight=None, missing=nan, monotone_constraints=None,\n",
              "             multi_strategy=None, n_estimators=None, n_jobs=None,\n",
              "             num_parallel_tree=None, random_state=None, ...)</pre></div></div></div></div></div>"
            ]
          },
          "metadata": {},
          "execution_count": 233
        }
      ]
    },
    {
      "cell_type": "code",
      "source": [],
      "metadata": {
        "id": "NCWRwmV-BgFB"
      },
      "execution_count": null,
      "outputs": []
    },
    {
      "cell_type": "markdown",
      "source": [
        "#Score sau khi lấy importance XGBRegressor"
      ],
      "metadata": {
        "id": "ZLX2P3a2BhZm"
      }
    },
    {
      "cell_type": "code",
      "source": [
        "xgboostModel.score(X_test_delete_xgboost,Y_test)"
      ],
      "metadata": {
        "colab": {
          "base_uri": "https://localhost:8080/"
        },
        "id": "JUDXSVHTKgQt",
        "outputId": "c187f1d4-d6e4-4192-fced-dc7769ac0f68"
      },
      "execution_count": null,
      "outputs": [
        {
          "output_type": "execute_result",
          "data": {
            "text/plain": [
              "0.8994728404693346"
            ]
          },
          "metadata": {},
          "execution_count": 234
        }
      ]
    },
    {
      "cell_type": "code",
      "source": [
        "# Loại bỏ các cột với Random Forest Regression\n",
        "\n",
        "# get importance\n",
        "importance = regressor.feature_importances_\n",
        "# summarize feature importance\n",
        "for i,v in enumerate(importance):\n",
        " print('Feature: %0d, Score: %.5f' % (i,v))\n",
        "# plot feature importance\n",
        "plt.bar([x for x in range(len(importance))], importance)\n",
        "plt.show()"
      ],
      "metadata": {
        "colab": {
          "base_uri": "https://localhost:8080/",
          "height": 1000
        },
        "id": "fs5pDg8VOOOo",
        "outputId": "3ae7f699-1006-481f-d8e1-543603d6c6ad"
      },
      "execution_count": null,
      "outputs": [
        {
          "output_type": "stream",
          "name": "stdout",
          "text": [
            "Feature: 0, Score: 0.16568\n",
            "Feature: 1, Score: 0.73605\n",
            "Feature: 2, Score: 0.00153\n",
            "Feature: 3, Score: 0.05695\n",
            "Feature: 4, Score: 0.00032\n",
            "Feature: 5, Score: 0.00055\n",
            "Feature: 6, Score: 0.00029\n",
            "Feature: 7, Score: 0.00028\n",
            "Feature: 8, Score: 0.00031\n",
            "Feature: 9, Score: 0.00039\n",
            "Feature: 10, Score: 0.00032\n",
            "Feature: 11, Score: 0.00015\n",
            "Feature: 12, Score: 0.00042\n",
            "Feature: 13, Score: 0.00123\n",
            "Feature: 14, Score: 0.00064\n",
            "Feature: 15, Score: 0.00120\n",
            "Feature: 16, Score: 0.00049\n",
            "Feature: 17, Score: 0.00093\n",
            "Feature: 18, Score: 0.00048\n",
            "Feature: 19, Score: 0.00133\n",
            "Feature: 20, Score: 0.00041\n",
            "Feature: 21, Score: 0.00024\n",
            "Feature: 22, Score: 0.00027\n",
            "Feature: 23, Score: 0.00032\n",
            "Feature: 24, Score: 0.00018\n",
            "Feature: 25, Score: 0.00047\n",
            "Feature: 26, Score: 0.00032\n",
            "Feature: 27, Score: 0.00026\n",
            "Feature: 28, Score: 0.00036\n",
            "Feature: 29, Score: 0.00036\n",
            "Feature: 30, Score: 0.00017\n",
            "Feature: 31, Score: 0.00030\n",
            "Feature: 32, Score: 0.00017\n",
            "Feature: 33, Score: 0.00027\n",
            "Feature: 34, Score: 0.00052\n",
            "Feature: 35, Score: 0.00034\n",
            "Feature: 36, Score: 0.00037\n",
            "Feature: 37, Score: 0.00017\n",
            "Feature: 38, Score: 0.00058\n",
            "Feature: 39, Score: 0.00278\n",
            "Feature: 40, Score: 0.00022\n",
            "Feature: 41, Score: 0.00076\n",
            "Feature: 42, Score: 0.00038\n",
            "Feature: 43, Score: 0.00027\n",
            "Feature: 44, Score: 0.00022\n",
            "Feature: 45, Score: 0.00155\n",
            "Feature: 46, Score: 0.00032\n",
            "Feature: 47, Score: 0.00319\n",
            "Feature: 48, Score: 0.00031\n",
            "Feature: 49, Score: 0.00053\n",
            "Feature: 50, Score: 0.00101\n",
            "Feature: 51, Score: 0.00037\n",
            "Feature: 52, Score: 0.00022\n",
            "Feature: 53, Score: 0.00023\n",
            "Feature: 54, Score: 0.00165\n",
            "Feature: 55, Score: 0.00049\n",
            "Feature: 56, Score: 0.00000\n",
            "Feature: 57, Score: 0.00000\n",
            "Feature: 58, Score: 0.00000\n",
            "Feature: 59, Score: 0.00000\n",
            "Feature: 60, Score: 0.00000\n",
            "Feature: 61, Score: 0.00000\n",
            "Feature: 62, Score: 0.00000\n",
            "Feature: 63, Score: 0.00044\n",
            "Feature: 64, Score: 0.00023\n",
            "Feature: 65, Score: 0.00032\n",
            "Feature: 66, Score: 0.00028\n",
            "Feature: 67, Score: 0.00036\n",
            "Feature: 68, Score: 0.00292\n",
            "Feature: 69, Score: 0.00283\n",
            "Feature: 70, Score: 0.00048\n",
            "Feature: 71, Score: 0.00028\n",
            "Feature: 72, Score: 0.00130\n",
            "Feature: 73, Score: 0.00043\n"
          ]
        },
        {
          "output_type": "display_data",
          "data": {
            "text/plain": [
              "<Figure size 640x480 with 1 Axes>"
            ],
            "image/png": "[encoded data removed]"
          },
          "metadata": {}
        }
      ]
    },
    {
      "cell_type": "code",
      "source": [
        "# Tìm chỉ số của các feature có mức độ importance dưới 0.00050\n",
        "low_importance_features = np.where(importance < 0.057)\n",
        "\n",
        "# Xóa các feature có mức độ importance dưới 0.00050\n",
        "X_train_delete_regressor_random = np.delete(X_train, low_importance_features, axis=1)\n",
        "X_test_delete_regressor_random = np.delete(X_test, low_importance_features, axis=1)\n",
        "print(low_importance_features[0].shape[0])\n",
        "print(X_train_delete_regressor_random)"
      ],
      "metadata": {
        "colab": {
          "base_uri": "https://localhost:8080/"
        },
        "id": "WhRQOWxtOhX8",
        "outputId": "518954e5-d6a3-460f-fb99-cb37d028ff63"
      },
      "execution_count": null,
      "outputs": [
        {
          "output_type": "stream",
          "name": "stdout",
          "text": [
            "72\n",
            "[[-2.055 30.845]\n",
            " [-1.696 28.304]\n",
            " [-2.836 30.364]\n",
            " ...\n",
            " [-1.959 30.341]\n",
            " [-1.981 31.219]\n",
            " [-2.783 28.817]]\n"
          ]
        }
      ]
    },
    {
      "cell_type": "code",
      "source": [
        "# Tìm lại model mới\n",
        "regressor_test_after_delete = RandomForestRegressor(n_estimators = 10)\n",
        "regressor_test_after_delete.fit(X_train_delete_regressor_random,Y_train)"
      ],
      "metadata": {
        "colab": {
          "base_uri": "https://localhost:8080/",
          "height": 129
        },
        "id": "VRoLQ1btPWOj",
        "outputId": "bab8269b-f635-4778-c521-f56e642d4231"
      },
      "execution_count": null,
      "outputs": [
        {
          "output_type": "stream",
          "name": "stderr",
          "text": [
            "<ipython-input-285-17baef40254a>:3: DataConversionWarning: A column-vector y was passed when a 1d array was expected. Please change the shape of y to (n_samples,), for example using ravel().\n",
            "  regressor_test_after_delete.fit(X_train_delete_regressor_random,Y_train)\n"
          ]
        },
        {
          "output_type": "execute_result",
          "data": {
            "text/plain": [
              "RandomForestRegressor(n_estimators=10)"
            ],
            "text/html": [
              "<style>#sk-container-id-83 {color: black;background-color: white;}#sk-container-id-83 pre{padding: 0;}#sk-container-id-83 div.sk-toggleable {background-color: white;}#sk-container-id-83 label.sk-toggleable__label {cursor: pointer;display: block;width: 100%;margin-bottom: 0;padding: 0.3em;box-sizing: border-box;text-align: center;}#sk-container-id-83 label.sk-toggleable__label-arrow:before {content: \"▸\";float: left;margin-right: 0.25em;color: #696969;}#sk-container-id-83 label.sk-toggleable__label-arrow:hover:before {color: black;}#sk-container-id-83 div.sk-estimator:hover label.sk-toggleable__label-arrow:before {color: black;}#sk-container-id-83 div.sk-toggleable__content {max-height: 0;max-width: 0;overflow: hidden;text-align: left;background-color: #f0f8ff;}#sk-container-id-83 div.sk-toggleable__content pre {margin: 0.2em;color: black;border-radius: 0.25em;background-color: #f0f8ff;}#sk-container-id-83 input.sk-toggleable__control:checked~div.sk-toggleable__content {max-height: 200px;max-width: 100%;overflow: auto;}#sk-container-id-83 input.sk-toggleable__control:checked~label.sk-toggleable__label-arrow:before {content: \"▾\";}#sk-container-id-83 div.sk-estimator input.sk-toggleable__control:checked~label.sk-toggleable__label {background-color: #d4ebff;}#sk-container-id-83 div.sk-label input.sk-toggleable__control:checked~label.sk-toggleable__label {background-color: #d4ebff;}#sk-container-id-83 input.sk-hidden--visually {border: 0;clip: rect(1px 1px 1px 1px);clip: rect(1px, 1px, 1px, 1px);height: 1px;margin: -1px;overflow: hidden;padding: 0;position: absolute;width: 1px;}#sk-container-id-83 div.sk-estimator {font-family: monospace;background-color: #f0f8ff;border: 1px dotted black;border-radius: 0.25em;box-sizing: border-box;margin-bottom: 0.5em;}#sk-container-id-83 div.sk-estimator:hover {background-color: #d4ebff;}#sk-container-id-83 div.sk-parallel-item::after {content: \"\";width: 100%;border-bottom: 1px solid gray;flex-grow: 1;}#sk-container-id-83 div.sk-label:hover label.sk-toggleable__label {background-color: #d4ebff;}#sk-container-id-83 div.sk-serial::before {content: \"\";position: absolute;border-left: 1px solid gray;box-sizing: border-box;top: 0;bottom: 0;left: 50%;z-index: 0;}#sk-container-id-83 div.sk-serial {display: flex;flex-direction: column;align-items: center;background-color: white;padding-right: 0.2em;padding-left: 0.2em;position: relative;}#sk-container-id-83 div.sk-item {position: relative;z-index: 1;}#sk-container-id-83 div.sk-parallel {display: flex;align-items: stretch;justify-content: center;background-color: white;position: relative;}#sk-container-id-83 div.sk-item::before, #sk-container-id-83 div.sk-parallel-item::before {content: \"\";position: absolute;border-left: 1px solid gray;box-sizing: border-box;top: 0;bottom: 0;left: 50%;z-index: -1;}#sk-container-id-83 div.sk-parallel-item {display: flex;flex-direction: column;z-index: 1;position: relative;background-color: white;}#sk-container-id-83 div.sk-parallel-item:first-child::after {align-self: flex-end;width: 50%;}#sk-container-id-83 div.sk-parallel-item:last-child::after {align-self: flex-start;width: 50%;}#sk-container-id-83 div.sk-parallel-item:only-child::after {width: 0;}#sk-container-id-83 div.sk-dashed-wrapped {border: 1px dashed gray;margin: 0 0.4em 0.5em 0.4em;box-sizing: border-box;padding-bottom: 0.4em;background-color: white;}#sk-container-id-83 div.sk-label label {font-family: monospace;font-weight: bold;display: inline-block;line-height: 1.2em;}#sk-container-id-83 div.sk-label-container {text-align: center;}#sk-container-id-83 div.sk-container {/* jupyter's `normalize.less` sets `[hidden] { display: none; }` but bootstrap.min.css set `[hidden] { display: none !important; }` so we also need the `!important` here to be able to override the default hidden behavior on the sphinx rendered scikit-learn.org. See: https://github.com/scikit-learn/scikit-learn/issues/21755 */display: inline-block !important;position: relative;}#sk-container-id-83 div.sk-text-repr-fallback {display: none;}</style><div id=\"sk-container-id-83\" class=\"sk-top-container\"><div class=\"sk-text-repr-fallback\"><pre>RandomForestRegressor(n_estimators=10)</pre><b>In a Jupyter environment, please rerun this cell to show the HTML representation or trust the notebook. <br />On GitHub, the HTML representation is unable to render, please try loading this page with nbviewer.org.</b></div><div class=\"sk-container\" hidden><div class=\"sk-item\"><div class=\"sk-estimator sk-toggleable\"><input class=\"sk-toggleable__control sk-hidden--visually\" id=\"sk-estimator-id-83\" type=\"checkbox\" checked><label for=\"sk-estimator-id-83\" class=\"sk-toggleable__label sk-toggleable__label-arrow\">RandomForestRegressor</label><div class=\"sk-toggleable__content\"><pre>RandomForestRegressor(n_estimators=10)</pre></div></div></div></div></div>"
            ]
          },
          "metadata": {},
          "execution_count": 285
        }
      ]
    },
    {
      "cell_type": "code",
      "source": [
        "regressor_test_after_delete.score(X_test_delete_regressor_random,Y_test)"
      ],
      "metadata": {
        "colab": {
          "base_uri": "https://localhost:8080/"
        },
        "id": "tfGBwG5mQBe6",
        "outputId": "9681c2bb-f3ca-48e4-c1e0-5e4bae43c362"
      },
      "execution_count": null,
      "outputs": [
        {
          "output_type": "execute_result",
          "data": {
            "text/plain": [
              "0.9002105315228623"
            ]
          },
          "metadata": {},
          "execution_count": 286
        }
      ]
    },
    {
      "cell_type": "markdown",
      "source": [
        "##Test"
      ],
      "metadata": {
        "id": "AnqhuKzHSwTf"
      }
    },
    {
      "cell_type": "code",
      "source": [
        "#Regression Random forest\n",
        "df_test = pd.read_csv('test.csv')\n",
        "new_df_test = df_test.fillna(-1, inplace=False)\n",
        "x_df_test = new_df_test.iloc[:, 1:].values\n",
        "id_x_test = new_df_test.iloc[:,0]\n",
        "# split into train and test sets\n",
        "x_df_test = np.delete(x_df_test, low_importance_features, axis=1)\n",
        "y_test_predict = regressor_test_after_delete.predict(x_df_test)\n",
        "df_result = pd.DataFrame({\n",
        "    'ID_LAT_LON_YEAR_WEEK': id_x_test,\n",
        "    'emission': y_test_predict\n",
        "})\n",
        "df_result.to_csv('output.csv', index=False)"
      ],
      "metadata": {
        "id": "pAfeZnHZSyEJ"
      },
      "execution_count": null,
      "outputs": []
    },
    {
      "cell_type": "code",
      "source": [
        "df_test = pd.read_csv('test.csv')\n",
        "new_df_test = df_test.fillna(-1, inplace=False)\n",
        "x_df_test = new_df_test.iloc[:, 1:].values\n",
        "id_x_test = new_df_test.iloc[:,0]\n",
        "# split into train and test sets\n",
        "x_df_test = np.delete(x_df_test, low_importance_features, axis=1)\n",
        "y_test_predict = xgboostModel.predict(x_df_test)\n",
        "df_result = pd.DataFrame({\n",
        "    'ID_LAT_LON_YEAR_WEEK': id_x_test,\n",
        "    'emission': y_test_predict\n",
        "})\n",
        "df_result.to_csv('output.csv', index=False)"
      ],
      "metadata": {
        "id": "rf-vU8dt9gMT"
      },
      "execution_count": null,
      "outputs": []
    }
  ]
}